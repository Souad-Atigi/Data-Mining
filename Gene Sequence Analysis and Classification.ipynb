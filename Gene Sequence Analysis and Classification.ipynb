{
  "cells": [
    {
      "cell_type": "markdown",
      "metadata": {
        "id": "u-OM80VK9Bmj"
      },
      "source": [
        "## Projet Data Mining\n",
        "\n"
      ]
    },
    {
      "cell_type": "markdown",
      "metadata": {
        "id": "coLMEDmb9Bmp"
      },
      "source": [
        "### Importation de données"
      ]
    },
    {
      "cell_type": "code",
      "execution_count": null,
      "metadata": {
        "colab": {
          "base_uri": "https://localhost:8080/"
        },
        "id": "W1VZE1tQ9Bmq",
        "outputId": "516f899c-38a1-4fd2-fb3a-50e150315c24"
      },
      "outputs": [
        {
          "name": "stdout",
          "output_type": "stream",
          "text": [
            "['/Users/mac/Downloads', '/Users/mac/opt/anaconda3/lib/python38.zip', '/Users/mac/opt/anaconda3/lib/python3.8', '/Users/mac/opt/anaconda3/lib/python3.8/lib-dynload', '', '/Users/mac/opt/anaconda3/lib/python3.8/site-packages', '/Users/mac/opt/anaconda3/lib/python3.8/site-packages/aeosa', '/Users/mac/opt/anaconda3/lib/python3.8/site-packages/locket-0.2.1-py3.8.egg', '/Users/mac/opt/anaconda3/lib/python3.8/site-packages/IPython/extensions', '/Users/mac/.ipython']\n"
          ]
        }
      ],
      "source": [
        "# Commençons par charger les bibliothèques que nous utiliserons plus tard pour le traitement des données\n",
        "import sys\n",
        "print(sys.path)"
      ]
    },
    {
      "cell_type": "code",
      "execution_count": null,
      "metadata": {
        "id": "k15UE5bX9Bms"
      },
      "outputs": [],
      "source": [
        "import numpy as np\n",
        "import matplotlib.pyplot as plt\n",
        "import pandas as pd\n",
        "%matplotlib inline"
      ]
    },
    {
      "cell_type": "code",
      "execution_count": null,
      "metadata": {
        "id": "921Q_41j9Bmt"
      },
      "outputs": [],
      "source": [
        "pd.options.mode.chained_assignment = None  \n",
        "data = pd.read_csv(r'https://archive.ics.uci.edu/ml/machine-learning-databases/molecular-biology/splice-junction-gene-sequences/splice.data', sep = ', ', engine = 'python')"
      ]
    },
    {
      "cell_type": "code",
      "execution_count": null,
      "metadata": {
        "colab": {
          "base_uri": "https://localhost:8080/",
          "height": 423
        },
        "id": "lEbpR-oW9Bmw",
        "outputId": "dcb7718f-217e-4b92-fb86-5f129f6e4e5f"
      },
      "outputs": [
        {
          "data": {
            "text/html": [
              "<div>\n",
              "<style scoped>\n",
              "    .dataframe tbody tr th:only-of-type {\n",
              "        vertical-align: middle;\n",
              "    }\n",
              "\n",
              "    .dataframe tbody tr th {\n",
              "        vertical-align: top;\n",
              "    }\n",
              "\n",
              "    .dataframe thead th {\n",
              "        text-align: right;\n",
              "    }\n",
              "</style>\n",
              "<table border=\"1\" class=\"dataframe\">\n",
              "  <thead>\n",
              "    <tr style=\"text-align: right;\">\n",
              "      <th></th>\n",
              "      <th>EI</th>\n",
              "      <th>ATRINS-DONOR-521</th>\n",
              "      <th>CCAGCTGCATCACAGGAGGCCAGCGAGCAGGTCTGTTCCAAGGGCCTTCGAGCCAGTCTG</th>\n",
              "    </tr>\n",
              "  </thead>\n",
              "  <tbody>\n",
              "    <tr>\n",
              "      <th>0</th>\n",
              "      <td>EI</td>\n",
              "      <td>ATRINS-DONOR-905</td>\n",
              "      <td>AGACCCGCCGGGAGGCGGAGGACCTGCAGGGT...</td>\n",
              "    </tr>\n",
              "    <tr>\n",
              "      <th>1</th>\n",
              "      <td>EI</td>\n",
              "      <td>BABAPOE-DONOR-30</td>\n",
              "      <td>GAGGTGAAGGACGTCCTTCCCCAGGAGCCGGT...</td>\n",
              "    </tr>\n",
              "    <tr>\n",
              "      <th>2</th>\n",
              "      <td>EI</td>\n",
              "      <td>BABAPOE-DONOR-867</td>\n",
              "      <td>GGGCTGCGTTGCTGGTCACATTCCTGGCAGGTA...</td>\n",
              "    </tr>\n",
              "    <tr>\n",
              "      <th>3</th>\n",
              "      <td>EI</td>\n",
              "      <td>BABAPOE-DONOR-2817</td>\n",
              "      <td>GCTCAGCCCCCAGGTCACCCAGGAACTGACGTGA...</td>\n",
              "    </tr>\n",
              "    <tr>\n",
              "      <th>4</th>\n",
              "      <td>EI</td>\n",
              "      <td>CHPIGECA-DONOR-378</td>\n",
              "      <td>CAGACTGGGTGGACAACAAAACCTTCAGCGGTAA...</td>\n",
              "    </tr>\n",
              "    <tr>\n",
              "      <th>...</th>\n",
              "      <td>...</td>\n",
              "      <td>...</td>\n",
              "      <td>...</td>\n",
              "    </tr>\n",
              "    <tr>\n",
              "      <th>3184</th>\n",
              "      <td>N</td>\n",
              "      <td>ORAHBPSBD-NEG-2881</td>\n",
              "      <td>TCTCTTCCCTTCCCCTCTCTCTTTCTTTCTTTTC...</td>\n",
              "    </tr>\n",
              "    <tr>\n",
              "      <th>3185</th>\n",
              "      <td>N</td>\n",
              "      <td>ORAINVOL-NEG-2161</td>\n",
              "      <td>GAGCTCCCAGAGCAGCAAGAGGGCCAGCTGAAG...</td>\n",
              "    </tr>\n",
              "    <tr>\n",
              "      <th>3186</th>\n",
              "      <td>N</td>\n",
              "      <td>ORARGIT-NEG-241</td>\n",
              "      <td>TCTCGGGGGCGGCCGGCGCGGCGGGGAGCGG...</td>\n",
              "    </tr>\n",
              "    <tr>\n",
              "      <th>3187</th>\n",
              "      <td>N</td>\n",
              "      <td>TARHBB-NEG-541</td>\n",
              "      <td>ATTCTACTTAGTAAACATAATTTCTTGTGC...</td>\n",
              "    </tr>\n",
              "    <tr>\n",
              "      <th>3188</th>\n",
              "      <td>N</td>\n",
              "      <td>TARHBD-NEG-1981</td>\n",
              "      <td>AGGCTGCCTATCAGAAGGTGGTGGCTGGTGT...</td>\n",
              "    </tr>\n",
              "  </tbody>\n",
              "</table>\n",
              "<p>3189 rows × 3 columns</p>\n",
              "</div>"
            ],
            "text/plain": [
              "      EI        ATRINS-DONOR-521  \\\n",
              "0     EI        ATRINS-DONOR-905   \n",
              "1     EI        BABAPOE-DONOR-30   \n",
              "2     EI       BABAPOE-DONOR-867   \n",
              "3     EI      BABAPOE-DONOR-2817   \n",
              "4     EI      CHPIGECA-DONOR-378   \n",
              "...   ..                     ...   \n",
              "3184   N      ORAHBPSBD-NEG-2881   \n",
              "3185   N       ORAINVOL-NEG-2161   \n",
              "3186   N         ORARGIT-NEG-241   \n",
              "3187   N          TARHBB-NEG-541   \n",
              "3188   N         TARHBD-NEG-1981   \n",
              "\n",
              "                   CCAGCTGCATCACAGGAGGCCAGCGAGCAGGTCTGTTCCAAGGGCCTTCGAGCCAGTCTG  \n",
              "0                   AGACCCGCCGGGAGGCGGAGGACCTGCAGGGT...                          \n",
              "1                   GAGGTGAAGGACGTCCTTCCCCAGGAGCCGGT...                          \n",
              "2                  GGGCTGCGTTGCTGGTCACATTCCTGGCAGGTA...                          \n",
              "3                 GCTCAGCCCCCAGGTCACCCAGGAACTGACGTGA...                          \n",
              "4                 CAGACTGGGTGGACAACAAAACCTTCAGCGGTAA...                          \n",
              "...                                                 ...                          \n",
              "3184              TCTCTTCCCTTCCCCTCTCTCTTTCTTTCTTTTC...                          \n",
              "3185               GAGCTCCCAGAGCAGCAAGAGGGCCAGCTGAAG...                          \n",
              "3186                 TCTCGGGGGCGGCCGGCGCGGCGGGGAGCGG...                          \n",
              "3187                  ATTCTACTTAGTAAACATAATTTCTTGTGC...                          \n",
              "3188                 AGGCTGCCTATCAGAAGGTGGTGGCTGGTGT...                          \n",
              "\n",
              "[3189 rows x 3 columns]"
            ]
          },
          "execution_count": 4,
          "metadata": {},
          "output_type": "execute_result"
        }
      ],
      "source": [
        "# Exploration de données\n",
        "data"
      ]
    },
    {
      "cell_type": "markdown",
      "metadata": {
        "id": "OrJn9MlV3ejh"
      },
      "source": [
        "### Préprocessing"
      ]
    },
    {
      "cell_type": "code",
      "execution_count": null,
      "metadata": {
        "id": "16mJB8Aw9Bmw"
      },
      "outputs": [],
      "source": [
        "data.columns =['Type', 'Nom_Gene', 'DNA']"
      ]
    },
    {
      "cell_type": "code",
      "execution_count": null,
      "metadata": {
        "colab": {
          "base_uri": "https://localhost:8080/",
          "height": 175
        },
        "id": "aDBHTiB19Bmy",
        "outputId": "e3d4764e-5e1e-4b11-aeba-e4c18ed0e483"
      },
      "outputs": [
        {
          "data": {
            "text/html": [
              "<div>\n",
              "<style scoped>\n",
              "    .dataframe tbody tr th:only-of-type {\n",
              "        vertical-align: middle;\n",
              "    }\n",
              "\n",
              "    .dataframe tbody tr th {\n",
              "        vertical-align: top;\n",
              "    }\n",
              "\n",
              "    .dataframe thead th {\n",
              "        text-align: right;\n",
              "    }\n",
              "</style>\n",
              "<table border=\"1\" class=\"dataframe\">\n",
              "  <thead>\n",
              "    <tr style=\"text-align: right;\">\n",
              "      <th></th>\n",
              "      <th>Type</th>\n",
              "      <th>Nom_Gene</th>\n",
              "      <th>DNA</th>\n",
              "    </tr>\n",
              "  </thead>\n",
              "  <tbody>\n",
              "    <tr>\n",
              "      <th>count</th>\n",
              "      <td>3189</td>\n",
              "      <td>3189</td>\n",
              "      <td>3189</td>\n",
              "    </tr>\n",
              "    <tr>\n",
              "      <th>unique</th>\n",
              "      <td>3</td>\n",
              "      <td>3177</td>\n",
              "      <td>3091</td>\n",
              "    </tr>\n",
              "    <tr>\n",
              "      <th>top</th>\n",
              "      <td>N</td>\n",
              "      <td>HUMMYLCA-DONOR-2559</td>\n",
              "      <td>TGACCTGATCTTTGCTCTCCCCCTGGCCAGTTGAGGA...</td>\n",
              "    </tr>\n",
              "    <tr>\n",
              "      <th>freq</th>\n",
              "      <td>1655</td>\n",
              "      <td>2</td>\n",
              "      <td>3</td>\n",
              "    </tr>\n",
              "  </tbody>\n",
              "</table>\n",
              "</div>"
            ],
            "text/plain": [
              "        Type                Nom_Gene  \\\n",
              "count   3189                    3189   \n",
              "unique     3                    3177   \n",
              "top        N     HUMMYLCA-DONOR-2559   \n",
              "freq    1655                       2   \n",
              "\n",
              "                                                      DNA  \n",
              "count                                                3189  \n",
              "unique                                               3091  \n",
              "top              TGACCTGATCTTTGCTCTCCCCCTGGCCAGTTGAGGA...  \n",
              "freq                                                    3  "
            ]
          },
          "execution_count": 6,
          "metadata": {},
          "output_type": "execute_result"
        }
      ],
      "source": [
        "data.describe()\n"
      ]
    },
    {
      "cell_type": "code",
      "execution_count": null,
      "metadata": {
        "id": "4j3eM7a79Bm0"
      },
      "outputs": [],
      "source": [
        "# Les variantes de \"valeurs\" que peut prendre un nucléotide sont tirées de la description de l'ensemble de données d'origine\n",
        "nucleotids =['A','T','G','C','D','N','R','S']\n",
        "for i in nucleotids:\n",
        "    data[i]=0"
      ]
    },
    {
      "cell_type": "code",
      "execution_count": null,
      "metadata": {
        "id": "oxqL_Y2g9Bm0"
      },
      "outputs": [],
      "source": [
        "# Indiquer le nombre de nucléotides de chaque type pour chaque brin d'ADN\n",
        "for i in range(len(data)):\n",
        "    for nc in nucleotids:\n",
        "        data[nc][i] = data['DNA'][i].count(nc)\n"
      ]
    },
    {
      "cell_type": "code",
      "execution_count": null,
      "metadata": {
        "id": "ScYn38GK9Bm1"
      },
      "outputs": [],
      "source": [
        "# Déterminer quel codon stop est utilisé dans chaque séquence\n",
        "stop_codones = ['TAA', 'TAG', 'TGA']\n",
        "data['stop-code']='None'\n",
        "for i in range(len(data)):\n",
        "    if data['Type'][i]!= 'N':\n",
        "        for j in range(len(stop_codones)): \n",
        "            stopcd = data['DNA'][i].find(stop_codones[j], 5, 59-5 )\n",
        "            if stopcd != -1:\n",
        "                if data['Type'][i]!='IE':\n",
        "                    data['stop-code'][i]= stop_codones[j]\n",
        "                    break;\n",
        "                else:\n",
        "                    priamidin = stopcd-15\n",
        "                    pmd_start = min(data['DNA'][i].find('T', priamidin, stopcd), data['DNA'][i].find('C', priamidin, stopcd))\n",
        "                    if (data['DNA'][i][pmd_start:stopcd].count('T')+data['DNA'][i][pmd_start:stopcd].count('C')+ data['DNA'][i][pmd_start:stopcd].count('D')+data['DNA'][i][pmd_start:stopcd].count('S')+data['DNA'][i][pmd_start:stopcd].count('N')>=3):\n",
        "                        data['stop-code'][i]= stop_codones[j]\n",
        "                        \n",
        "                        break;"
      ]
    },
    {
      "cell_type": "code",
      "execution_count": null,
      "metadata": {
        "colab": {
          "base_uri": "https://localhost:8080/"
        },
        "id": "RaUlaYgM9Bm2",
        "outputId": "eea7595d-f055-4684-baa4-ec77df725a1a"
      },
      "outputs": [
        {
          "data": {
            "text/plain": [
              "count     3189\n",
              "unique       4\n",
              "top       None\n",
              "freq      2084\n",
              "Name: stop-code, dtype: object"
            ]
          },
          "execution_count": 10,
          "metadata": {},
          "output_type": "execute_result"
        }
      ],
      "source": [
        "data['stop-code'].describe()"
      ]
    },
    {
      "cell_type": "code",
      "execution_count": null,
      "metadata": {
        "colab": {
          "base_uri": "https://localhost:8080/"
        },
        "id": "5RrCda_39Bm3",
        "outputId": "65e62f0d-a7f6-4cc1-d436-48d293bbeb68"
      },
      "outputs": [
        {
          "data": {
            "text/plain": [
              "[448, 2084, 411, 246]"
            ]
          },
          "execution_count": 11,
          "metadata": {},
          "output_type": "execute_result"
        }
      ],
      "source": [
        "# Calculer la fréquence d'apparition des codes d'arrêt\n",
        "st = data['stop-code'].unique()\n",
        "stop_code_freq = [0 for i in range (len(st))]\n",
        "for j in range(len(data)):\n",
        "    for i in range (len(st)):\n",
        "        if data['stop-code'][j]==st[i]:\n",
        "            stop_code_freq[i]=stop_code_freq[i]+1\n",
        "stop_code_freq"
      ]
    },
    {
      "cell_type": "code",
      "execution_count": null,
      "metadata": {
        "colab": {
          "base_uri": "https://localhost:8080/",
          "height": 370
        },
        "id": "p4i6bQl_9Bm4",
        "outputId": "a84bcc51-f900-4b25-a071-a6662bc85ba3"
      },
      "outputs": [
        {
          "data": {
            "text/plain": [
              "([<matplotlib.axis.XTick at 0x7fdd16cbcd90>,\n",
              "  <matplotlib.axis.XTick at 0x7fdd16cbcd60>,\n",
              "  <matplotlib.axis.XTick at 0x7fdd16cb18b0>,\n",
              "  <matplotlib.axis.XTick at 0x7fdd16d06670>],\n",
              " [Text(0, 0, 'TGA'), Text(1, 0, 'None'), Text(2, 0, 'TAA'), Text(3, 0, 'TAG')])"
            ]
          },
          "execution_count": 12,
          "metadata": {},
          "output_type": "execute_result"
        },
        {
          "data": {
            "image/png": "[encoded data removed]",
            "text/plain": [
              "<Figure size 432x288 with 1 Axes>"
            ]
          },
          "metadata": {
            "needs_background": "light"
          },
          "output_type": "display_data"
        }
      ],
      "source": [
        "# Tracer la fréquence d'apparition des codons stop.\n",
        "stpcdnStd = (1,2,3,4)\n",
        "ind = np.arange(len(stop_code_freq))   \n",
        "width = 0.35      \n",
        "\n",
        "p1 = plt.bar(ind, stop_code_freq, width, yerr=stpcdnStd)\n",
        "\n",
        "plt.ylabel('Nombre d\\'observations')\n",
        "plt.title('codon stop')\n",
        "plt.xticks(ind, st)"
      ]
    },
    {
      "cell_type": "code",
      "execution_count": null,
      "metadata": {
        "colab": {
          "base_uri": "https://localhost:8080/",
          "height": 279
        },
        "id": "rZ4j5STT9Bm5",
        "outputId": "5c4036e6-0963-4f17-b058-152894b61722"
      },
      "outputs": [
        {
          "data": {
            "image/png": "[encoded data removed]",
            "text/plain": [
              "<Figure size 432x288 with 1 Axes>"
            ]
          },
          "metadata": {
            "needs_background": "light"
          },
          "output_type": "display_data"
        }
      ],
      "source": [
        "# Graphique des observations du nombre de nucléotides d'Adénine et de Thymine dans des segments d'ADN de 60 nucléotides de long\n",
        "plt.plot(data['A'], data['T'], 'o', alpha = 0.05,color = 'y')\n",
        "plt.xlabel('A')\n",
        "plt.ylabel('T')\n",
        "pass"
      ]
    },
    {
      "cell_type": "code",
      "execution_count": null,
      "metadata": {
        "colab": {
          "base_uri": "https://localhost:8080/",
          "height": 279
        },
        "id": "MgWpgMNF9Bm5",
        "outputId": "eed95a2d-f835-4989-8ef9-a38179ca12fc"
      },
      "outputs": [
        {
          "data": {
            "image/png": "[encoded data removed]",
            "text/plain": [
              "<Figure size 432x288 with 1 Axes>"
            ]
          },
          "metadata": {
            "needs_background": "light"
          },
          "output_type": "display_data"
        }
      ],
      "source": [
        "# Graphique d'observations du nombre de nucléotides de cytosine et de guanine dans des segments d'ADN de 60 nucléotides de long\n",
        "plt.plot(data['G'], data['C'], '*', alpha = 0.05, color = 'g')\n",
        "plt.xlabel('G')\n",
        "plt.ylabel('C')\n",
        "pass"
      ]
    },
    {
      "cell_type": "code",
      "execution_count": null,
      "metadata": {
        "colab": {
          "base_uri": "https://localhost:8080/"
        },
        "id": "2oGOpFgH9Bm6",
        "outputId": "f6f1bf23-0459-4251-e6f3-749c49c01fac"
      },
      "outputs": [
        {
          "data": {
            "text/plain": [
              "A    13.0\n",
              "T    14.0\n",
              "G    15.0\n",
              "C    15.0\n",
              "D     0.0\n",
              "N     0.0\n",
              "R     0.0\n",
              "S     0.0\n",
              "dtype: float64"
            ]
          },
          "execution_count": 15,
          "metadata": {},
          "output_type": "execute_result"
        }
      ],
      "source": [
        "# La fréquence moyenne d'occurrence de chaque nucléotide sur l'ensemble des données.\n",
        "data.median(axis = 0)"
      ]
    },
    {
      "cell_type": "code",
      "execution_count": null,
      "metadata": {
        "colab": {
          "base_uri": "https://localhost:8080/",
          "height": 300
        },
        "id": "zHU0mU-B9Bm6",
        "outputId": "fdf8f972-67be-4550-b4b9-3e33e63d00c9"
      },
      "outputs": [
        {
          "data": {
            "text/html": [
              "<div>\n",
              "<style scoped>\n",
              "    .dataframe tbody tr th:only-of-type {\n",
              "        vertical-align: middle;\n",
              "    }\n",
              "\n",
              "    .dataframe tbody tr th {\n",
              "        vertical-align: top;\n",
              "    }\n",
              "\n",
              "    .dataframe thead th {\n",
              "        text-align: right;\n",
              "    }\n",
              "</style>\n",
              "<table border=\"1\" class=\"dataframe\">\n",
              "  <thead>\n",
              "    <tr style=\"text-align: right;\">\n",
              "      <th></th>\n",
              "      <th>A</th>\n",
              "      <th>T</th>\n",
              "      <th>G</th>\n",
              "      <th>C</th>\n",
              "      <th>D</th>\n",
              "      <th>N</th>\n",
              "      <th>R</th>\n",
              "      <th>S</th>\n",
              "    </tr>\n",
              "  </thead>\n",
              "  <tbody>\n",
              "    <tr>\n",
              "      <th>A</th>\n",
              "      <td>1.000000</td>\n",
              "      <td>0.021535</td>\n",
              "      <td>-0.317944</td>\n",
              "      <td>-0.587756</td>\n",
              "      <td>-0.019739</td>\n",
              "      <td>-0.031149</td>\n",
              "      <td>-0.013955</td>\n",
              "      <td>0.000190</td>\n",
              "    </tr>\n",
              "    <tr>\n",
              "      <th>T</th>\n",
              "      <td>0.021535</td>\n",
              "      <td>1.000000</td>\n",
              "      <td>-0.579498</td>\n",
              "      <td>-0.374441</td>\n",
              "      <td>-0.023986</td>\n",
              "      <td>-0.046290</td>\n",
              "      <td>0.018526</td>\n",
              "      <td>-0.011889</td>\n",
              "    </tr>\n",
              "    <tr>\n",
              "      <th>G</th>\n",
              "      <td>-0.317944</td>\n",
              "      <td>-0.579498</td>\n",
              "      <td>1.000000</td>\n",
              "      <td>-0.144013</td>\n",
              "      <td>0.030844</td>\n",
              "      <td>-0.042840</td>\n",
              "      <td>-0.012114</td>\n",
              "      <td>-0.012114</td>\n",
              "    </tr>\n",
              "    <tr>\n",
              "      <th>C</th>\n",
              "      <td>-0.587756</td>\n",
              "      <td>-0.374441</td>\n",
              "      <td>-0.144013</td>\n",
              "      <td>1.000000</td>\n",
              "      <td>0.005412</td>\n",
              "      <td>-0.017193</td>\n",
              "      <td>0.003826</td>\n",
              "      <td>0.019341</td>\n",
              "    </tr>\n",
              "    <tr>\n",
              "      <th>D</th>\n",
              "      <td>-0.019739</td>\n",
              "      <td>-0.023986</td>\n",
              "      <td>0.030844</td>\n",
              "      <td>0.005412</td>\n",
              "      <td>1.000000</td>\n",
              "      <td>-0.000601</td>\n",
              "      <td>-0.000444</td>\n",
              "      <td>-0.000444</td>\n",
              "    </tr>\n",
              "    <tr>\n",
              "      <th>N</th>\n",
              "      <td>-0.031149</td>\n",
              "      <td>-0.046290</td>\n",
              "      <td>-0.042840</td>\n",
              "      <td>-0.017193</td>\n",
              "      <td>-0.000601</td>\n",
              "      <td>1.000000</td>\n",
              "      <td>-0.000425</td>\n",
              "      <td>-0.000425</td>\n",
              "    </tr>\n",
              "    <tr>\n",
              "      <th>R</th>\n",
              "      <td>-0.013955</td>\n",
              "      <td>0.018526</td>\n",
              "      <td>-0.012114</td>\n",
              "      <td>0.003826</td>\n",
              "      <td>-0.000444</td>\n",
              "      <td>-0.000425</td>\n",
              "      <td>1.000000</td>\n",
              "      <td>-0.000314</td>\n",
              "    </tr>\n",
              "    <tr>\n",
              "      <th>S</th>\n",
              "      <td>0.000190</td>\n",
              "      <td>-0.011889</td>\n",
              "      <td>-0.012114</td>\n",
              "      <td>0.019341</td>\n",
              "      <td>-0.000444</td>\n",
              "      <td>-0.000425</td>\n",
              "      <td>-0.000314</td>\n",
              "      <td>1.000000</td>\n",
              "    </tr>\n",
              "  </tbody>\n",
              "</table>\n",
              "</div>"
            ],
            "text/plain": [
              "          A         T         G         C         D         N         R  \\\n",
              "A  1.000000  0.021535 -0.317944 -0.587756 -0.019739 -0.031149 -0.013955   \n",
              "T  0.021535  1.000000 -0.579498 -0.374441 -0.023986 -0.046290  0.018526   \n",
              "G -0.317944 -0.579498  1.000000 -0.144013  0.030844 -0.042840 -0.012114   \n",
              "C -0.587756 -0.374441 -0.144013  1.000000  0.005412 -0.017193  0.003826   \n",
              "D -0.019739 -0.023986  0.030844  0.005412  1.000000 -0.000601 -0.000444   \n",
              "N -0.031149 -0.046290 -0.042840 -0.017193 -0.000601  1.000000 -0.000425   \n",
              "R -0.013955  0.018526 -0.012114  0.003826 -0.000444 -0.000425  1.000000   \n",
              "S  0.000190 -0.011889 -0.012114  0.019341 -0.000444 -0.000425 -0.000314   \n",
              "\n",
              "          S  \n",
              "A  0.000190  \n",
              "T -0.011889  \n",
              "G -0.012114  \n",
              "C  0.019341  \n",
              "D -0.000444  \n",
              "N -0.000425  \n",
              "R -0.000314  \n",
              "S  1.000000  "
            ]
          },
          "execution_count": 16,
          "metadata": {},
          "output_type": "execute_result"
        }
      ],
      "source": [
        "#La corrélation entre le nombre de nucléotides de chaque type dans l'ensemble de données\n",
        "data.corr()"
      ]
    },
    {
      "cell_type": "code",
      "execution_count": null,
      "metadata": {
        "colab": {
          "base_uri": "https://localhost:8080/",
          "height": 606
        },
        "id": "1iD3v9dV9Bm7",
        "outputId": "9d2de21f-6eaa-4d14-c809-dd4bc5782ee5"
      },
      "outputs": [
        {
          "data": {
            "image/png": "[encoded data removed]",
            "text/plain": [
              "<Figure size 720x720 with 64 Axes>"
            ]
          },
          "metadata": {
            "needs_background": "light"
          },
          "output_type": "display_data"
        }
      ],
      "source": [
        "# Résultats sous forme graphique en utilisant la fonction scatter_matrix de la bibliothèque pandas\n",
        "from pandas.plotting import scatter_matrix\n",
        "scatter_matrix(data, alpha = .05, figsize = (10, 10))\n",
        "pass"
      ]
    },
    {
      "cell_type": "code",
      "execution_count": null,
      "metadata": {
        "colab": {
          "base_uri": "https://localhost:8080/"
        },
        "id": "Io9SOoOg9Bm8",
        "outputId": "27dc2848-5b35-45d1-b050-e764a955d66c"
      },
      "outputs": [
        {
          "name": "stdout",
          "output_type": "stream",
          "text": [
            "['Type', 'stop-code']\n",
            "['A', 'T', 'G', 'C', 'D', 'N', 'R', 'S']\n",
            "[] ['Type', 'stop-code']\n",
            "Index(['Type_EI', 'Type_IE', 'Type_N', 'stop-code_None', 'stop-code_TAA',\n",
            "       'stop-code_TAG', 'stop-code_TGA'],\n",
            "      dtype='object')\n"
          ]
        }
      ],
      "source": [
        "# Colonnes catégorielles -> Colonnes quantitatives\n",
        "categorical_columns = [c for c in data.columns if data[c].dtype.name == 'object' and c!='Nom_Gene' and c!='DNA']\n",
        "numerical_columns   = [c for c in data.columns if data[c].dtype.name != 'object']\n",
        "data_describe = data.describe(include = [object])\n",
        "print(categorical_columns)\n",
        "print(numerical_columns)\n",
        "binary_columns    = [c for c in categorical_columns if data_describe[c]['unique'] == 2]\n",
        "nonbinary_columns = [c for c in categorical_columns if data_describe[c]['unique'] > 2]\n",
        "print(binary_columns, nonbinary_columns)\n",
        "data_nonbinary = pd.get_dummies(data[categorical_columns])\n",
        "print(data_nonbinary.columns)"
      ]
    },
    {
      "cell_type": "code",
      "execution_count": null,
      "metadata": {
        "colab": {
          "base_uri": "https://localhost:8080/",
          "height": 423
        },
        "id": "2s9VUOW79Bm-",
        "outputId": "66623398-ffbc-4690-ddb1-67b125ab0d06"
      },
      "outputs": [
        {
          "data": {
            "text/html": [
              "<div>\n",
              "<style scoped>\n",
              "    .dataframe tbody tr th:only-of-type {\n",
              "        vertical-align: middle;\n",
              "    }\n",
              "\n",
              "    .dataframe tbody tr th {\n",
              "        vertical-align: top;\n",
              "    }\n",
              "\n",
              "    .dataframe thead th {\n",
              "        text-align: right;\n",
              "    }\n",
              "</style>\n",
              "<table border=\"1\" class=\"dataframe\">\n",
              "  <thead>\n",
              "    <tr style=\"text-align: right;\">\n",
              "      <th></th>\n",
              "      <th>A</th>\n",
              "      <th>T</th>\n",
              "      <th>G</th>\n",
              "      <th>C</th>\n",
              "      <th>D</th>\n",
              "      <th>N</th>\n",
              "      <th>R</th>\n",
              "      <th>S</th>\n",
              "    </tr>\n",
              "  </thead>\n",
              "  <tbody>\n",
              "    <tr>\n",
              "      <th>0</th>\n",
              "      <td>8</td>\n",
              "      <td>4</td>\n",
              "      <td>21</td>\n",
              "      <td>27</td>\n",
              "      <td>0</td>\n",
              "      <td>0</td>\n",
              "      <td>0</td>\n",
              "      <td>0</td>\n",
              "    </tr>\n",
              "    <tr>\n",
              "      <th>1</th>\n",
              "      <td>12</td>\n",
              "      <td>7</td>\n",
              "      <td>27</td>\n",
              "      <td>14</td>\n",
              "      <td>0</td>\n",
              "      <td>0</td>\n",
              "      <td>0</td>\n",
              "      <td>0</td>\n",
              "    </tr>\n",
              "    <tr>\n",
              "      <th>2</th>\n",
              "      <td>4</td>\n",
              "      <td>17</td>\n",
              "      <td>23</td>\n",
              "      <td>16</td>\n",
              "      <td>0</td>\n",
              "      <td>0</td>\n",
              "      <td>0</td>\n",
              "      <td>0</td>\n",
              "    </tr>\n",
              "    <tr>\n",
              "      <th>3</th>\n",
              "      <td>10</td>\n",
              "      <td>10</td>\n",
              "      <td>14</td>\n",
              "      <td>26</td>\n",
              "      <td>0</td>\n",
              "      <td>0</td>\n",
              "      <td>0</td>\n",
              "      <td>0</td>\n",
              "    </tr>\n",
              "    <tr>\n",
              "      <th>4</th>\n",
              "      <td>21</td>\n",
              "      <td>6</td>\n",
              "      <td>18</td>\n",
              "      <td>15</td>\n",
              "      <td>0</td>\n",
              "      <td>0</td>\n",
              "      <td>0</td>\n",
              "      <td>0</td>\n",
              "    </tr>\n",
              "    <tr>\n",
              "      <th>...</th>\n",
              "      <td>...</td>\n",
              "      <td>...</td>\n",
              "      <td>...</td>\n",
              "      <td>...</td>\n",
              "      <td>...</td>\n",
              "      <td>...</td>\n",
              "      <td>...</td>\n",
              "      <td>...</td>\n",
              "    </tr>\n",
              "    <tr>\n",
              "      <th>3184</th>\n",
              "      <td>0</td>\n",
              "      <td>34</td>\n",
              "      <td>0</td>\n",
              "      <td>26</td>\n",
              "      <td>0</td>\n",
              "      <td>0</td>\n",
              "      <td>0</td>\n",
              "      <td>0</td>\n",
              "    </tr>\n",
              "    <tr>\n",
              "      <th>3185</th>\n",
              "      <td>18</td>\n",
              "      <td>4</td>\n",
              "      <td>22</td>\n",
              "      <td>16</td>\n",
              "      <td>0</td>\n",
              "      <td>0</td>\n",
              "      <td>0</td>\n",
              "      <td>0</td>\n",
              "    </tr>\n",
              "    <tr>\n",
              "      <th>3186</th>\n",
              "      <td>2</td>\n",
              "      <td>7</td>\n",
              "      <td>29</td>\n",
              "      <td>22</td>\n",
              "      <td>0</td>\n",
              "      <td>0</td>\n",
              "      <td>0</td>\n",
              "      <td>0</td>\n",
              "    </tr>\n",
              "    <tr>\n",
              "      <th>3187</th>\n",
              "      <td>28</td>\n",
              "      <td>17</td>\n",
              "      <td>5</td>\n",
              "      <td>10</td>\n",
              "      <td>0</td>\n",
              "      <td>0</td>\n",
              "      <td>0</td>\n",
              "      <td>0</td>\n",
              "    </tr>\n",
              "    <tr>\n",
              "      <th>3188</th>\n",
              "      <td>10</td>\n",
              "      <td>16</td>\n",
              "      <td>20</td>\n",
              "      <td>14</td>\n",
              "      <td>0</td>\n",
              "      <td>0</td>\n",
              "      <td>0</td>\n",
              "      <td>0</td>\n",
              "    </tr>\n",
              "  </tbody>\n",
              "</table>\n",
              "<p>3189 rows × 8 columns</p>\n",
              "</div>"
            ],
            "text/plain": [
              "       A   T   G   C  D  N  R  S\n",
              "0      8   4  21  27  0  0  0  0\n",
              "1     12   7  27  14  0  0  0  0\n",
              "2      4  17  23  16  0  0  0  0\n",
              "3     10  10  14  26  0  0  0  0\n",
              "4     21   6  18  15  0  0  0  0\n",
              "...   ..  ..  ..  .. .. .. .. ..\n",
              "3184   0  34   0  26  0  0  0  0\n",
              "3185  18   4  22  16  0  0  0  0\n",
              "3186   2   7  29  22  0  0  0  0\n",
              "3187  28  17   5  10  0  0  0  0\n",
              "3188  10  16  20  14  0  0  0  0\n",
              "\n",
              "[3189 rows x 8 columns]"
            ]
          },
          "execution_count": 19,
          "metadata": {},
          "output_type": "execute_result"
        }
      ],
      "source": [
        "# La fréquence d'apparition d'un nucléotide dans un segment d'ADN\n",
        "data_numerical = data[numerical_columns]\n",
        "data_numerical"
      ]
    },
    {
      "cell_type": "code",
      "execution_count": null,
      "metadata": {
        "colab": {
          "base_uri": "https://localhost:8080/",
          "height": 300
        },
        "id": "_s4TANuh9mc0",
        "outputId": "462c6bbc-0724-418d-e059-395d2cae16dd"
      },
      "outputs": [
        {
          "data": {
            "text/html": [
              "<div>\n",
              "<style scoped>\n",
              "    .dataframe tbody tr th:only-of-type {\n",
              "        vertical-align: middle;\n",
              "    }\n",
              "\n",
              "    .dataframe tbody tr th {\n",
              "        vertical-align: top;\n",
              "    }\n",
              "\n",
              "    .dataframe thead th {\n",
              "        text-align: right;\n",
              "    }\n",
              "</style>\n",
              "<table border=\"1\" class=\"dataframe\">\n",
              "  <thead>\n",
              "    <tr style=\"text-align: right;\">\n",
              "      <th></th>\n",
              "      <th>A</th>\n",
              "      <th>T</th>\n",
              "      <th>G</th>\n",
              "      <th>C</th>\n",
              "      <th>D</th>\n",
              "      <th>N</th>\n",
              "      <th>R</th>\n",
              "      <th>S</th>\n",
              "    </tr>\n",
              "  </thead>\n",
              "  <tbody>\n",
              "    <tr>\n",
              "      <th>count</th>\n",
              "      <td>3189.000000</td>\n",
              "      <td>3189.000000</td>\n",
              "      <td>3189.000000</td>\n",
              "      <td>3189.000000</td>\n",
              "      <td>3189.000000</td>\n",
              "      <td>3189.000000</td>\n",
              "      <td>3189.000000</td>\n",
              "      <td>3189.000000</td>\n",
              "    </tr>\n",
              "    <tr>\n",
              "      <th>mean</th>\n",
              "      <td>13.946378</td>\n",
              "      <td>14.518031</td>\n",
              "      <td>15.749765</td>\n",
              "      <td>15.767012</td>\n",
              "      <td>0.000627</td>\n",
              "      <td>0.017560</td>\n",
              "      <td>0.000314</td>\n",
              "      <td>0.000314</td>\n",
              "    </tr>\n",
              "    <tr>\n",
              "      <th>std</th>\n",
              "      <td>5.009271</td>\n",
              "      <td>5.241538</td>\n",
              "      <td>5.483244</td>\n",
              "      <td>5.708572</td>\n",
              "      <td>0.025039</td>\n",
              "      <td>0.731745</td>\n",
              "      <td>0.017708</td>\n",
              "      <td>0.017708</td>\n",
              "    </tr>\n",
              "    <tr>\n",
              "      <th>min</th>\n",
              "      <td>0.000000</td>\n",
              "      <td>0.000000</td>\n",
              "      <td>0.000000</td>\n",
              "      <td>0.000000</td>\n",
              "      <td>0.000000</td>\n",
              "      <td>0.000000</td>\n",
              "      <td>0.000000</td>\n",
              "      <td>0.000000</td>\n",
              "    </tr>\n",
              "    <tr>\n",
              "      <th>25%</th>\n",
              "      <td>10.000000</td>\n",
              "      <td>11.000000</td>\n",
              "      <td>12.000000</td>\n",
              "      <td>12.000000</td>\n",
              "      <td>0.000000</td>\n",
              "      <td>0.000000</td>\n",
              "      <td>0.000000</td>\n",
              "      <td>0.000000</td>\n",
              "    </tr>\n",
              "    <tr>\n",
              "      <th>50%</th>\n",
              "      <td>13.000000</td>\n",
              "      <td>14.000000</td>\n",
              "      <td>15.000000</td>\n",
              "      <td>15.000000</td>\n",
              "      <td>0.000000</td>\n",
              "      <td>0.000000</td>\n",
              "      <td>0.000000</td>\n",
              "      <td>0.000000</td>\n",
              "    </tr>\n",
              "    <tr>\n",
              "      <th>75%</th>\n",
              "      <td>17.000000</td>\n",
              "      <td>18.000000</td>\n",
              "      <td>19.000000</td>\n",
              "      <td>20.000000</td>\n",
              "      <td>0.000000</td>\n",
              "      <td>0.000000</td>\n",
              "      <td>0.000000</td>\n",
              "      <td>0.000000</td>\n",
              "    </tr>\n",
              "    <tr>\n",
              "      <th>max</th>\n",
              "      <td>44.000000</td>\n",
              "      <td>44.000000</td>\n",
              "      <td>37.000000</td>\n",
              "      <td>40.000000</td>\n",
              "      <td>1.000000</td>\n",
              "      <td>41.000000</td>\n",
              "      <td>1.000000</td>\n",
              "      <td>1.000000</td>\n",
              "    </tr>\n",
              "  </tbody>\n",
              "</table>\n",
              "</div>"
            ],
            "text/plain": [
              "                 A            T            G            C            D  \\\n",
              "count  3189.000000  3189.000000  3189.000000  3189.000000  3189.000000   \n",
              "mean     13.946378    14.518031    15.749765    15.767012     0.000627   \n",
              "std       5.009271     5.241538     5.483244     5.708572     0.025039   \n",
              "min       0.000000     0.000000     0.000000     0.000000     0.000000   \n",
              "25%      10.000000    11.000000    12.000000    12.000000     0.000000   \n",
              "50%      13.000000    14.000000    15.000000    15.000000     0.000000   \n",
              "75%      17.000000    18.000000    19.000000    20.000000     0.000000   \n",
              "max      44.000000    44.000000    37.000000    40.000000     1.000000   \n",
              "\n",
              "                 N            R            S  \n",
              "count  3189.000000  3189.000000  3189.000000  \n",
              "mean      0.017560     0.000314     0.000314  \n",
              "std       0.731745     0.017708     0.017708  \n",
              "min       0.000000     0.000000     0.000000  \n",
              "25%       0.000000     0.000000     0.000000  \n",
              "50%       0.000000     0.000000     0.000000  \n",
              "75%       0.000000     0.000000     0.000000  \n",
              "max      41.000000     1.000000     1.000000  "
            ]
          },
          "execution_count": 20,
          "metadata": {},
          "output_type": "execute_result"
        }
      ],
      "source": [
        "data_numerical.describe()"
      ]
    },
    {
      "cell_type": "code",
      "execution_count": null,
      "metadata": {
        "colab": {
          "base_uri": "https://localhost:8080/",
          "height": 423
        },
        "id": "2A9sdJGK9Bm_",
        "outputId": "a93b3b68-675a-4a6b-8f7a-ddb5cbe04494"
      },
      "outputs": [
        {
          "data": {
            "text/html": [
              "<div>\n",
              "<style scoped>\n",
              "    .dataframe tbody tr th:only-of-type {\n",
              "        vertical-align: middle;\n",
              "    }\n",
              "\n",
              "    .dataframe tbody tr th {\n",
              "        vertical-align: top;\n",
              "    }\n",
              "\n",
              "    .dataframe thead th {\n",
              "        text-align: right;\n",
              "    }\n",
              "</style>\n",
              "<table border=\"1\" class=\"dataframe\">\n",
              "  <thead>\n",
              "    <tr style=\"text-align: right;\">\n",
              "      <th></th>\n",
              "      <th>A</th>\n",
              "      <th>T</th>\n",
              "      <th>G</th>\n",
              "      <th>C</th>\n",
              "      <th>D</th>\n",
              "      <th>N</th>\n",
              "      <th>R</th>\n",
              "      <th>S</th>\n",
              "    </tr>\n",
              "  </thead>\n",
              "  <tbody>\n",
              "    <tr>\n",
              "      <th>0</th>\n",
              "      <td>-1.187075</td>\n",
              "      <td>-2.006669</td>\n",
              "      <td>0.957505</td>\n",
              "      <td>1.967740</td>\n",
              "      <td>-0.025047</td>\n",
              "      <td>-0.023998</td>\n",
              "      <td>-0.017708</td>\n",
              "      <td>-0.017708</td>\n",
              "    </tr>\n",
              "    <tr>\n",
              "      <th>1</th>\n",
              "      <td>-0.388555</td>\n",
              "      <td>-1.434318</td>\n",
              "      <td>2.051748</td>\n",
              "      <td>-0.309537</td>\n",
              "      <td>-0.025047</td>\n",
              "      <td>-0.023998</td>\n",
              "      <td>-0.017708</td>\n",
              "      <td>-0.017708</td>\n",
              "    </tr>\n",
              "    <tr>\n",
              "      <th>2</th>\n",
              "      <td>-1.985594</td>\n",
              "      <td>0.473519</td>\n",
              "      <td>1.322253</td>\n",
              "      <td>0.040814</td>\n",
              "      <td>-0.025047</td>\n",
              "      <td>-0.023998</td>\n",
              "      <td>-0.017708</td>\n",
              "      <td>-0.017708</td>\n",
              "    </tr>\n",
              "    <tr>\n",
              "      <th>3</th>\n",
              "      <td>-0.787815</td>\n",
              "      <td>-0.861967</td>\n",
              "      <td>-0.319111</td>\n",
              "      <td>1.792565</td>\n",
              "      <td>-0.025047</td>\n",
              "      <td>-0.023998</td>\n",
              "      <td>-0.017708</td>\n",
              "      <td>-0.017708</td>\n",
              "    </tr>\n",
              "    <tr>\n",
              "      <th>4</th>\n",
              "      <td>1.408113</td>\n",
              "      <td>-1.625101</td>\n",
              "      <td>0.410384</td>\n",
              "      <td>-0.134361</td>\n",
              "      <td>-0.025047</td>\n",
              "      <td>-0.023998</td>\n",
              "      <td>-0.017708</td>\n",
              "      <td>-0.017708</td>\n",
              "    </tr>\n",
              "    <tr>\n",
              "      <th>...</th>\n",
              "      <td>...</td>\n",
              "      <td>...</td>\n",
              "      <td>...</td>\n",
              "      <td>...</td>\n",
              "      <td>...</td>\n",
              "      <td>...</td>\n",
              "      <td>...</td>\n",
              "      <td>...</td>\n",
              "    </tr>\n",
              "    <tr>\n",
              "      <th>3184</th>\n",
              "      <td>-2.784113</td>\n",
              "      <td>3.716842</td>\n",
              "      <td>-2.872344</td>\n",
              "      <td>1.792565</td>\n",
              "      <td>-0.025047</td>\n",
              "      <td>-0.023998</td>\n",
              "      <td>-0.017708</td>\n",
              "      <td>-0.017708</td>\n",
              "    </tr>\n",
              "    <tr>\n",
              "      <th>3185</th>\n",
              "      <td>0.809224</td>\n",
              "      <td>-2.006669</td>\n",
              "      <td>1.139879</td>\n",
              "      <td>0.040814</td>\n",
              "      <td>-0.025047</td>\n",
              "      <td>-0.023998</td>\n",
              "      <td>-0.017708</td>\n",
              "      <td>-0.017708</td>\n",
              "    </tr>\n",
              "    <tr>\n",
              "      <th>3186</th>\n",
              "      <td>-2.384854</td>\n",
              "      <td>-1.434318</td>\n",
              "      <td>2.416495</td>\n",
              "      <td>1.091865</td>\n",
              "      <td>-0.025047</td>\n",
              "      <td>-0.023998</td>\n",
              "      <td>-0.017708</td>\n",
              "      <td>-0.017708</td>\n",
              "    </tr>\n",
              "    <tr>\n",
              "      <th>3187</th>\n",
              "      <td>2.805522</td>\n",
              "      <td>0.473519</td>\n",
              "      <td>-1.960475</td>\n",
              "      <td>-1.010237</td>\n",
              "      <td>-0.025047</td>\n",
              "      <td>-0.023998</td>\n",
              "      <td>-0.017708</td>\n",
              "      <td>-0.017708</td>\n",
              "    </tr>\n",
              "    <tr>\n",
              "      <th>3188</th>\n",
              "      <td>-0.787815</td>\n",
              "      <td>0.282736</td>\n",
              "      <td>0.775131</td>\n",
              "      <td>-0.309537</td>\n",
              "      <td>-0.025047</td>\n",
              "      <td>-0.023998</td>\n",
              "      <td>-0.017708</td>\n",
              "      <td>-0.017708</td>\n",
              "    </tr>\n",
              "  </tbody>\n",
              "</table>\n",
              "<p>3189 rows × 8 columns</p>\n",
              "</div>"
            ],
            "text/plain": [
              "             A         T         G         C         D         N         R  \\\n",
              "0    -1.187075 -2.006669  0.957505  1.967740 -0.025047 -0.023998 -0.017708   \n",
              "1    -0.388555 -1.434318  2.051748 -0.309537 -0.025047 -0.023998 -0.017708   \n",
              "2    -1.985594  0.473519  1.322253  0.040814 -0.025047 -0.023998 -0.017708   \n",
              "3    -0.787815 -0.861967 -0.319111  1.792565 -0.025047 -0.023998 -0.017708   \n",
              "4     1.408113 -1.625101  0.410384 -0.134361 -0.025047 -0.023998 -0.017708   \n",
              "...        ...       ...       ...       ...       ...       ...       ...   \n",
              "3184 -2.784113  3.716842 -2.872344  1.792565 -0.025047 -0.023998 -0.017708   \n",
              "3185  0.809224 -2.006669  1.139879  0.040814 -0.025047 -0.023998 -0.017708   \n",
              "3186 -2.384854 -1.434318  2.416495  1.091865 -0.025047 -0.023998 -0.017708   \n",
              "3187  2.805522  0.473519 -1.960475 -1.010237 -0.025047 -0.023998 -0.017708   \n",
              "3188 -0.787815  0.282736  0.775131 -0.309537 -0.025047 -0.023998 -0.017708   \n",
              "\n",
              "             S  \n",
              "0    -0.017708  \n",
              "1    -0.017708  \n",
              "2    -0.017708  \n",
              "3    -0.017708  \n",
              "4    -0.017708  \n",
              "...        ...  \n",
              "3184 -0.017708  \n",
              "3185 -0.017708  \n",
              "3186 -0.017708  \n",
              "3187 -0.017708  \n",
              "3188 -0.017708  \n",
              "\n",
              "[3189 rows x 8 columns]"
            ]
          },
          "execution_count": 21,
          "metadata": {},
          "output_type": "execute_result"
        }
      ],
      "source": [
        "# Normalisation des valeurs\n",
        "data_numerical = (data_numerical - data_numerical.mean(axis = 0))/data_numerical.std(axis = 0)\n",
        "data_numerical"
      ]
    },
    {
      "cell_type": "code",
      "execution_count": null,
      "metadata": {
        "colab": {
          "base_uri": "https://localhost:8080/",
          "height": 300
        },
        "id": "vXSCqid79Bm_",
        "outputId": "094ceeff-b44d-4862-b4c2-9794906a61c5"
      },
      "outputs": [
        {
          "data": {
            "text/html": [
              "<div>\n",
              "<style scoped>\n",
              "    .dataframe tbody tr th:only-of-type {\n",
              "        vertical-align: middle;\n",
              "    }\n",
              "\n",
              "    .dataframe tbody tr th {\n",
              "        vertical-align: top;\n",
              "    }\n",
              "\n",
              "    .dataframe thead th {\n",
              "        text-align: right;\n",
              "    }\n",
              "</style>\n",
              "<table border=\"1\" class=\"dataframe\">\n",
              "  <thead>\n",
              "    <tr style=\"text-align: right;\">\n",
              "      <th></th>\n",
              "      <th>A</th>\n",
              "      <th>T</th>\n",
              "      <th>G</th>\n",
              "      <th>C</th>\n",
              "      <th>D</th>\n",
              "      <th>N</th>\n",
              "      <th>R</th>\n",
              "      <th>S</th>\n",
              "    </tr>\n",
              "  </thead>\n",
              "  <tbody>\n",
              "    <tr>\n",
              "      <th>count</th>\n",
              "      <td>3.189000e+03</td>\n",
              "      <td>3.189000e+03</td>\n",
              "      <td>3.189000e+03</td>\n",
              "      <td>3.189000e+03</td>\n",
              "      <td>3.189000e+03</td>\n",
              "      <td>3.189000e+03</td>\n",
              "      <td>3.189000e+03</td>\n",
              "      <td>3.189000e+03</td>\n",
              "    </tr>\n",
              "    <tr>\n",
              "      <th>mean</th>\n",
              "      <td>-2.164047e-16</td>\n",
              "      <td>3.770372e-17</td>\n",
              "      <td>1.324260e-15</td>\n",
              "      <td>-7.947199e-16</td>\n",
              "      <td>-1.529538e-16</td>\n",
              "      <td>9.459547e-16</td>\n",
              "      <td>2.586234e-16</td>\n",
              "      <td>2.586234e-16</td>\n",
              "    </tr>\n",
              "    <tr>\n",
              "      <th>std</th>\n",
              "      <td>1.000000e+00</td>\n",
              "      <td>1.000000e+00</td>\n",
              "      <td>1.000000e+00</td>\n",
              "      <td>1.000000e+00</td>\n",
              "      <td>1.000000e+00</td>\n",
              "      <td>1.000000e+00</td>\n",
              "      <td>1.000000e+00</td>\n",
              "      <td>1.000000e+00</td>\n",
              "    </tr>\n",
              "    <tr>\n",
              "      <th>min</th>\n",
              "      <td>-2.784113e+00</td>\n",
              "      <td>-2.769804e+00</td>\n",
              "      <td>-2.872344e+00</td>\n",
              "      <td>-2.761989e+00</td>\n",
              "      <td>-2.504701e-02</td>\n",
              "      <td>-2.399793e-02</td>\n",
              "      <td>-1.770813e-02</td>\n",
              "      <td>-1.770813e-02</td>\n",
              "    </tr>\n",
              "    <tr>\n",
              "      <th>25%</th>\n",
              "      <td>-7.878149e-01</td>\n",
              "      <td>-6.711829e-01</td>\n",
              "      <td>-6.838588e-01</td>\n",
              "      <td>-6.598868e-01</td>\n",
              "      <td>-2.504701e-02</td>\n",
              "      <td>-2.399793e-02</td>\n",
              "      <td>-1.770813e-02</td>\n",
              "      <td>-1.770813e-02</td>\n",
              "    </tr>\n",
              "    <tr>\n",
              "      <th>50%</th>\n",
              "      <td>-1.889253e-01</td>\n",
              "      <td>-9.883182e-02</td>\n",
              "      <td>-1.367374e-01</td>\n",
              "      <td>-1.343614e-01</td>\n",
              "      <td>-2.504701e-02</td>\n",
              "      <td>-2.399793e-02</td>\n",
              "      <td>-1.770813e-02</td>\n",
              "      <td>-1.770813e-02</td>\n",
              "    </tr>\n",
              "    <tr>\n",
              "      <th>75%</th>\n",
              "      <td>6.095941e-01</td>\n",
              "      <td>6.643030e-01</td>\n",
              "      <td>5.927577e-01</td>\n",
              "      <td>7.415144e-01</td>\n",
              "      <td>-2.504701e-02</td>\n",
              "      <td>-2.399793e-02</td>\n",
              "      <td>-1.770813e-02</td>\n",
              "      <td>-1.770813e-02</td>\n",
              "    </tr>\n",
              "    <tr>\n",
              "      <th>max</th>\n",
              "      <td>5.999600e+00</td>\n",
              "      <td>5.624679e+00</td>\n",
              "      <td>3.875486e+00</td>\n",
              "      <td>4.245018e+00</td>\n",
              "      <td>3.991241e+01</td>\n",
              "      <td>5.600646e+01</td>\n",
              "      <td>5.645352e+01</td>\n",
              "      <td>5.645352e+01</td>\n",
              "    </tr>\n",
              "  </tbody>\n",
              "</table>\n",
              "</div>"
            ],
            "text/plain": [
              "                  A             T             G             C             D  \\\n",
              "count  3.189000e+03  3.189000e+03  3.189000e+03  3.189000e+03  3.189000e+03   \n",
              "mean  -2.164047e-16  3.770372e-17  1.324260e-15 -7.947199e-16 -1.529538e-16   \n",
              "std    1.000000e+00  1.000000e+00  1.000000e+00  1.000000e+00  1.000000e+00   \n",
              "min   -2.784113e+00 -2.769804e+00 -2.872344e+00 -2.761989e+00 -2.504701e-02   \n",
              "25%   -7.878149e-01 -6.711829e-01 -6.838588e-01 -6.598868e-01 -2.504701e-02   \n",
              "50%   -1.889253e-01 -9.883182e-02 -1.367374e-01 -1.343614e-01 -2.504701e-02   \n",
              "75%    6.095941e-01  6.643030e-01  5.927577e-01  7.415144e-01 -2.504701e-02   \n",
              "max    5.999600e+00  5.624679e+00  3.875486e+00  4.245018e+00  3.991241e+01   \n",
              "\n",
              "                  N             R             S  \n",
              "count  3.189000e+03  3.189000e+03  3.189000e+03  \n",
              "mean   9.459547e-16  2.586234e-16  2.586234e-16  \n",
              "std    1.000000e+00  1.000000e+00  1.000000e+00  \n",
              "min   -2.399793e-02 -1.770813e-02 -1.770813e-02  \n",
              "25%   -2.399793e-02 -1.770813e-02 -1.770813e-02  \n",
              "50%   -2.399793e-02 -1.770813e-02 -1.770813e-02  \n",
              "75%   -2.399793e-02 -1.770813e-02 -1.770813e-02  \n",
              "max    5.600646e+01  5.645352e+01  5.645352e+01  "
            ]
          },
          "execution_count": 22,
          "metadata": {},
          "output_type": "execute_result"
        }
      ],
      "source": [
        "data_numerical.describe()"
      ]
    },
    {
      "cell_type": "code",
      "execution_count": null,
      "metadata": {
        "colab": {
          "base_uri": "https://localhost:8080/",
          "height": 505
        },
        "id": "qcI3ivwT9Bm_",
        "outputId": "0b363eed-9a3a-4ca3-f5b6-710d37afbc7c"
      },
      "outputs": [
        {
          "data": {
            "text/html": [
              "<div>\n",
              "<style scoped>\n",
              "    .dataframe tbody tr th:only-of-type {\n",
              "        vertical-align: middle;\n",
              "    }\n",
              "\n",
              "    .dataframe tbody tr th {\n",
              "        vertical-align: top;\n",
              "    }\n",
              "\n",
              "    .dataframe thead th {\n",
              "        text-align: right;\n",
              "    }\n",
              "</style>\n",
              "<table border=\"1\" class=\"dataframe\">\n",
              "  <thead>\n",
              "    <tr style=\"text-align: right;\">\n",
              "      <th></th>\n",
              "      <th>A</th>\n",
              "      <th>T</th>\n",
              "      <th>G</th>\n",
              "      <th>C</th>\n",
              "      <th>D</th>\n",
              "      <th>N</th>\n",
              "      <th>R</th>\n",
              "      <th>S</th>\n",
              "      <th>Type_EI</th>\n",
              "      <th>Type_IE</th>\n",
              "      <th>Type_N</th>\n",
              "      <th>stop-code_None</th>\n",
              "      <th>stop-code_TAA</th>\n",
              "      <th>stop-code_TAG</th>\n",
              "      <th>stop-code_TGA</th>\n",
              "    </tr>\n",
              "  </thead>\n",
              "  <tbody>\n",
              "    <tr>\n",
              "      <th>0</th>\n",
              "      <td>-1.187075</td>\n",
              "      <td>-2.006669</td>\n",
              "      <td>0.957505</td>\n",
              "      <td>1.967740</td>\n",
              "      <td>-0.025047</td>\n",
              "      <td>-0.023998</td>\n",
              "      <td>-0.017708</td>\n",
              "      <td>-0.017708</td>\n",
              "      <td>1</td>\n",
              "      <td>0</td>\n",
              "      <td>0</td>\n",
              "      <td>0</td>\n",
              "      <td>0</td>\n",
              "      <td>0</td>\n",
              "      <td>1</td>\n",
              "    </tr>\n",
              "    <tr>\n",
              "      <th>1</th>\n",
              "      <td>-0.388555</td>\n",
              "      <td>-1.434318</td>\n",
              "      <td>2.051748</td>\n",
              "      <td>-0.309537</td>\n",
              "      <td>-0.025047</td>\n",
              "      <td>-0.023998</td>\n",
              "      <td>-0.017708</td>\n",
              "      <td>-0.017708</td>\n",
              "      <td>1</td>\n",
              "      <td>0</td>\n",
              "      <td>0</td>\n",
              "      <td>0</td>\n",
              "      <td>0</td>\n",
              "      <td>0</td>\n",
              "      <td>1</td>\n",
              "    </tr>\n",
              "    <tr>\n",
              "      <th>2</th>\n",
              "      <td>-1.985594</td>\n",
              "      <td>0.473519</td>\n",
              "      <td>1.322253</td>\n",
              "      <td>0.040814</td>\n",
              "      <td>-0.025047</td>\n",
              "      <td>-0.023998</td>\n",
              "      <td>-0.017708</td>\n",
              "      <td>-0.017708</td>\n",
              "      <td>1</td>\n",
              "      <td>0</td>\n",
              "      <td>0</td>\n",
              "      <td>1</td>\n",
              "      <td>0</td>\n",
              "      <td>0</td>\n",
              "      <td>0</td>\n",
              "    </tr>\n",
              "    <tr>\n",
              "      <th>3</th>\n",
              "      <td>-0.787815</td>\n",
              "      <td>-0.861967</td>\n",
              "      <td>-0.319111</td>\n",
              "      <td>1.792565</td>\n",
              "      <td>-0.025047</td>\n",
              "      <td>-0.023998</td>\n",
              "      <td>-0.017708</td>\n",
              "      <td>-0.017708</td>\n",
              "      <td>1</td>\n",
              "      <td>0</td>\n",
              "      <td>0</td>\n",
              "      <td>0</td>\n",
              "      <td>0</td>\n",
              "      <td>0</td>\n",
              "      <td>1</td>\n",
              "    </tr>\n",
              "    <tr>\n",
              "      <th>4</th>\n",
              "      <td>1.408113</td>\n",
              "      <td>-1.625101</td>\n",
              "      <td>0.410384</td>\n",
              "      <td>-0.134361</td>\n",
              "      <td>-0.025047</td>\n",
              "      <td>-0.023998</td>\n",
              "      <td>-0.017708</td>\n",
              "      <td>-0.017708</td>\n",
              "      <td>1</td>\n",
              "      <td>0</td>\n",
              "      <td>0</td>\n",
              "      <td>0</td>\n",
              "      <td>1</td>\n",
              "      <td>0</td>\n",
              "      <td>0</td>\n",
              "    </tr>\n",
              "    <tr>\n",
              "      <th>...</th>\n",
              "      <td>...</td>\n",
              "      <td>...</td>\n",
              "      <td>...</td>\n",
              "      <td>...</td>\n",
              "      <td>...</td>\n",
              "      <td>...</td>\n",
              "      <td>...</td>\n",
              "      <td>...</td>\n",
              "      <td>...</td>\n",
              "      <td>...</td>\n",
              "      <td>...</td>\n",
              "      <td>...</td>\n",
              "      <td>...</td>\n",
              "      <td>...</td>\n",
              "      <td>...</td>\n",
              "    </tr>\n",
              "    <tr>\n",
              "      <th>3184</th>\n",
              "      <td>-2.784113</td>\n",
              "      <td>3.716842</td>\n",
              "      <td>-2.872344</td>\n",
              "      <td>1.792565</td>\n",
              "      <td>-0.025047</td>\n",
              "      <td>-0.023998</td>\n",
              "      <td>-0.017708</td>\n",
              "      <td>-0.017708</td>\n",
              "      <td>0</td>\n",
              "      <td>0</td>\n",
              "      <td>1</td>\n",
              "      <td>1</td>\n",
              "      <td>0</td>\n",
              "      <td>0</td>\n",
              "      <td>0</td>\n",
              "    </tr>\n",
              "    <tr>\n",
              "      <th>3185</th>\n",
              "      <td>0.809224</td>\n",
              "      <td>-2.006669</td>\n",
              "      <td>1.139879</td>\n",
              "      <td>0.040814</td>\n",
              "      <td>-0.025047</td>\n",
              "      <td>-0.023998</td>\n",
              "      <td>-0.017708</td>\n",
              "      <td>-0.017708</td>\n",
              "      <td>0</td>\n",
              "      <td>0</td>\n",
              "      <td>1</td>\n",
              "      <td>1</td>\n",
              "      <td>0</td>\n",
              "      <td>0</td>\n",
              "      <td>0</td>\n",
              "    </tr>\n",
              "    <tr>\n",
              "      <th>3186</th>\n",
              "      <td>-2.384854</td>\n",
              "      <td>-1.434318</td>\n",
              "      <td>2.416495</td>\n",
              "      <td>1.091865</td>\n",
              "      <td>-0.025047</td>\n",
              "      <td>-0.023998</td>\n",
              "      <td>-0.017708</td>\n",
              "      <td>-0.017708</td>\n",
              "      <td>0</td>\n",
              "      <td>0</td>\n",
              "      <td>1</td>\n",
              "      <td>1</td>\n",
              "      <td>0</td>\n",
              "      <td>0</td>\n",
              "      <td>0</td>\n",
              "    </tr>\n",
              "    <tr>\n",
              "      <th>3187</th>\n",
              "      <td>2.805522</td>\n",
              "      <td>0.473519</td>\n",
              "      <td>-1.960475</td>\n",
              "      <td>-1.010237</td>\n",
              "      <td>-0.025047</td>\n",
              "      <td>-0.023998</td>\n",
              "      <td>-0.017708</td>\n",
              "      <td>-0.017708</td>\n",
              "      <td>0</td>\n",
              "      <td>0</td>\n",
              "      <td>1</td>\n",
              "      <td>1</td>\n",
              "      <td>0</td>\n",
              "      <td>0</td>\n",
              "      <td>0</td>\n",
              "    </tr>\n",
              "    <tr>\n",
              "      <th>3188</th>\n",
              "      <td>-0.787815</td>\n",
              "      <td>0.282736</td>\n",
              "      <td>0.775131</td>\n",
              "      <td>-0.309537</td>\n",
              "      <td>-0.025047</td>\n",
              "      <td>-0.023998</td>\n",
              "      <td>-0.017708</td>\n",
              "      <td>-0.017708</td>\n",
              "      <td>0</td>\n",
              "      <td>0</td>\n",
              "      <td>1</td>\n",
              "      <td>1</td>\n",
              "      <td>0</td>\n",
              "      <td>0</td>\n",
              "      <td>0</td>\n",
              "    </tr>\n",
              "  </tbody>\n",
              "</table>\n",
              "<p>3189 rows × 15 columns</p>\n",
              "</div>"
            ],
            "text/plain": [
              "             A         T         G         C         D         N         R  \\\n",
              "0    -1.187075 -2.006669  0.957505  1.967740 -0.025047 -0.023998 -0.017708   \n",
              "1    -0.388555 -1.434318  2.051748 -0.309537 -0.025047 -0.023998 -0.017708   \n",
              "2    -1.985594  0.473519  1.322253  0.040814 -0.025047 -0.023998 -0.017708   \n",
              "3    -0.787815 -0.861967 -0.319111  1.792565 -0.025047 -0.023998 -0.017708   \n",
              "4     1.408113 -1.625101  0.410384 -0.134361 -0.025047 -0.023998 -0.017708   \n",
              "...        ...       ...       ...       ...       ...       ...       ...   \n",
              "3184 -2.784113  3.716842 -2.872344  1.792565 -0.025047 -0.023998 -0.017708   \n",
              "3185  0.809224 -2.006669  1.139879  0.040814 -0.025047 -0.023998 -0.017708   \n",
              "3186 -2.384854 -1.434318  2.416495  1.091865 -0.025047 -0.023998 -0.017708   \n",
              "3187  2.805522  0.473519 -1.960475 -1.010237 -0.025047 -0.023998 -0.017708   \n",
              "3188 -0.787815  0.282736  0.775131 -0.309537 -0.025047 -0.023998 -0.017708   \n",
              "\n",
              "             S  Type_EI  Type_IE  Type_N  stop-code_None  stop-code_TAA  \\\n",
              "0    -0.017708        1        0       0               0              0   \n",
              "1    -0.017708        1        0       0               0              0   \n",
              "2    -0.017708        1        0       0               1              0   \n",
              "3    -0.017708        1        0       0               0              0   \n",
              "4    -0.017708        1        0       0               0              1   \n",
              "...        ...      ...      ...     ...             ...            ...   \n",
              "3184 -0.017708        0        0       1               1              0   \n",
              "3185 -0.017708        0        0       1               1              0   \n",
              "3186 -0.017708        0        0       1               1              0   \n",
              "3187 -0.017708        0        0       1               1              0   \n",
              "3188 -0.017708        0        0       1               1              0   \n",
              "\n",
              "      stop-code_TAG  stop-code_TGA  \n",
              "0                 0              1  \n",
              "1                 0              1  \n",
              "2                 0              0  \n",
              "3                 0              1  \n",
              "4                 0              0  \n",
              "...             ...            ...  \n",
              "3184              0              0  \n",
              "3185              0              0  \n",
              "3186              0              0  \n",
              "3187              0              0  \n",
              "3188              0              0  \n",
              "\n",
              "[3189 rows x 15 columns]"
            ]
          },
          "execution_count": 23,
          "metadata": {},
          "output_type": "execute_result"
        }
      ],
      "source": [
        "# Combiner les deux parties du tableau: quantitatif et catégoriel en un seul\n",
        "data = pd.concat((data_numerical, data_nonbinary, data[binary_columns]), axis = 1)\n",
        "data"
      ]
    },
    {
      "cell_type": "code",
      "execution_count": null,
      "metadata": {
        "colab": {
          "base_uri": "https://localhost:8080/",
          "height": 468
        },
        "id": "cpEoaA9K9Bm_",
        "outputId": "eae7936c-0f6b-4058-ea2f-8f5d424e2013",
        "scrolled": true
      },
      "outputs": [
        {
          "data": {
            "text/html": [
              "<div>\n",
              "<style scoped>\n",
              "    .dataframe tbody tr th:only-of-type {\n",
              "        vertical-align: middle;\n",
              "    }\n",
              "\n",
              "    .dataframe tbody tr th {\n",
              "        vertical-align: top;\n",
              "    }\n",
              "\n",
              "    .dataframe thead th {\n",
              "        text-align: right;\n",
              "    }\n",
              "</style>\n",
              "<table border=\"1\" class=\"dataframe\">\n",
              "  <thead>\n",
              "    <tr style=\"text-align: right;\">\n",
              "      <th></th>\n",
              "      <th>A</th>\n",
              "      <th>T</th>\n",
              "      <th>G</th>\n",
              "      <th>C</th>\n",
              "      <th>D</th>\n",
              "      <th>N</th>\n",
              "      <th>R</th>\n",
              "      <th>S</th>\n",
              "      <th>Type_EI</th>\n",
              "      <th>Type_IE</th>\n",
              "      <th>Type_N</th>\n",
              "      <th>stop-code_None</th>\n",
              "      <th>stop-code_TAA</th>\n",
              "      <th>stop-code_TAG</th>\n",
              "      <th>stop-code_TGA</th>\n",
              "    </tr>\n",
              "  </thead>\n",
              "  <tbody>\n",
              "    <tr>\n",
              "      <th>count</th>\n",
              "      <td>3.189000e+03</td>\n",
              "      <td>3.189000e+03</td>\n",
              "      <td>3.189000e+03</td>\n",
              "      <td>3.189000e+03</td>\n",
              "      <td>3.189000e+03</td>\n",
              "      <td>3.189000e+03</td>\n",
              "      <td>3.189000e+03</td>\n",
              "      <td>3.189000e+03</td>\n",
              "      <td>3189.000000</td>\n",
              "      <td>3189.000000</td>\n",
              "      <td>3189.000000</td>\n",
              "      <td>3189.000000</td>\n",
              "      <td>3189.000000</td>\n",
              "      <td>3189.000000</td>\n",
              "      <td>3189.000000</td>\n",
              "    </tr>\n",
              "    <tr>\n",
              "      <th>mean</th>\n",
              "      <td>-2.164047e-16</td>\n",
              "      <td>3.770372e-17</td>\n",
              "      <td>1.324260e-15</td>\n",
              "      <td>-7.947199e-16</td>\n",
              "      <td>-1.529538e-16</td>\n",
              "      <td>9.459547e-16</td>\n",
              "      <td>2.586234e-16</td>\n",
              "      <td>2.586234e-16</td>\n",
              "      <td>0.240201</td>\n",
              "      <td>0.240828</td>\n",
              "      <td>0.518971</td>\n",
              "      <td>0.653496</td>\n",
              "      <td>0.128881</td>\n",
              "      <td>0.077140</td>\n",
              "      <td>0.140483</td>\n",
              "    </tr>\n",
              "    <tr>\n",
              "      <th>std</th>\n",
              "      <td>1.000000e+00</td>\n",
              "      <td>1.000000e+00</td>\n",
              "      <td>1.000000e+00</td>\n",
              "      <td>1.000000e+00</td>\n",
              "      <td>1.000000e+00</td>\n",
              "      <td>1.000000e+00</td>\n",
              "      <td>1.000000e+00</td>\n",
              "      <td>1.000000e+00</td>\n",
              "      <td>0.427272</td>\n",
              "      <td>0.427653</td>\n",
              "      <td>0.499718</td>\n",
              "      <td>0.475931</td>\n",
              "      <td>0.335120</td>\n",
              "      <td>0.266856</td>\n",
              "      <td>0.347542</td>\n",
              "    </tr>\n",
              "    <tr>\n",
              "      <th>min</th>\n",
              "      <td>-2.784113e+00</td>\n",
              "      <td>-2.769804e+00</td>\n",
              "      <td>-2.872344e+00</td>\n",
              "      <td>-2.761989e+00</td>\n",
              "      <td>-2.504701e-02</td>\n",
              "      <td>-2.399793e-02</td>\n",
              "      <td>-1.770813e-02</td>\n",
              "      <td>-1.770813e-02</td>\n",
              "      <td>0.000000</td>\n",
              "      <td>0.000000</td>\n",
              "      <td>0.000000</td>\n",
              "      <td>0.000000</td>\n",
              "      <td>0.000000</td>\n",
              "      <td>0.000000</td>\n",
              "      <td>0.000000</td>\n",
              "    </tr>\n",
              "    <tr>\n",
              "      <th>25%</th>\n",
              "      <td>-7.878149e-01</td>\n",
              "      <td>-6.711829e-01</td>\n",
              "      <td>-6.838588e-01</td>\n",
              "      <td>-6.598868e-01</td>\n",
              "      <td>-2.504701e-02</td>\n",
              "      <td>-2.399793e-02</td>\n",
              "      <td>-1.770813e-02</td>\n",
              "      <td>-1.770813e-02</td>\n",
              "      <td>0.000000</td>\n",
              "      <td>0.000000</td>\n",
              "      <td>0.000000</td>\n",
              "      <td>0.000000</td>\n",
              "      <td>0.000000</td>\n",
              "      <td>0.000000</td>\n",
              "      <td>0.000000</td>\n",
              "    </tr>\n",
              "    <tr>\n",
              "      <th>50%</th>\n",
              "      <td>-1.889253e-01</td>\n",
              "      <td>-9.883182e-02</td>\n",
              "      <td>-1.367374e-01</td>\n",
              "      <td>-1.343614e-01</td>\n",
              "      <td>-2.504701e-02</td>\n",
              "      <td>-2.399793e-02</td>\n",
              "      <td>-1.770813e-02</td>\n",
              "      <td>-1.770813e-02</td>\n",
              "      <td>0.000000</td>\n",
              "      <td>0.000000</td>\n",
              "      <td>1.000000</td>\n",
              "      <td>1.000000</td>\n",
              "      <td>0.000000</td>\n",
              "      <td>0.000000</td>\n",
              "      <td>0.000000</td>\n",
              "    </tr>\n",
              "    <tr>\n",
              "      <th>75%</th>\n",
              "      <td>6.095941e-01</td>\n",
              "      <td>6.643030e-01</td>\n",
              "      <td>5.927577e-01</td>\n",
              "      <td>7.415144e-01</td>\n",
              "      <td>-2.504701e-02</td>\n",
              "      <td>-2.399793e-02</td>\n",
              "      <td>-1.770813e-02</td>\n",
              "      <td>-1.770813e-02</td>\n",
              "      <td>0.000000</td>\n",
              "      <td>0.000000</td>\n",
              "      <td>1.000000</td>\n",
              "      <td>1.000000</td>\n",
              "      <td>0.000000</td>\n",
              "      <td>0.000000</td>\n",
              "      <td>0.000000</td>\n",
              "    </tr>\n",
              "    <tr>\n",
              "      <th>max</th>\n",
              "      <td>5.999600e+00</td>\n",
              "      <td>5.624679e+00</td>\n",
              "      <td>3.875486e+00</td>\n",
              "      <td>4.245018e+00</td>\n",
              "      <td>3.991241e+01</td>\n",
              "      <td>5.600646e+01</td>\n",
              "      <td>5.645352e+01</td>\n",
              "      <td>5.645352e+01</td>\n",
              "      <td>1.000000</td>\n",
              "      <td>1.000000</td>\n",
              "      <td>1.000000</td>\n",
              "      <td>1.000000</td>\n",
              "      <td>1.000000</td>\n",
              "      <td>1.000000</td>\n",
              "      <td>1.000000</td>\n",
              "    </tr>\n",
              "  </tbody>\n",
              "</table>\n",
              "</div>"
            ],
            "text/plain": [
              "                  A             T             G             C             D  \\\n",
              "count  3.189000e+03  3.189000e+03  3.189000e+03  3.189000e+03  3.189000e+03   \n",
              "mean  -2.164047e-16  3.770372e-17  1.324260e-15 -7.947199e-16 -1.529538e-16   \n",
              "std    1.000000e+00  1.000000e+00  1.000000e+00  1.000000e+00  1.000000e+00   \n",
              "min   -2.784113e+00 -2.769804e+00 -2.872344e+00 -2.761989e+00 -2.504701e-02   \n",
              "25%   -7.878149e-01 -6.711829e-01 -6.838588e-01 -6.598868e-01 -2.504701e-02   \n",
              "50%   -1.889253e-01 -9.883182e-02 -1.367374e-01 -1.343614e-01 -2.504701e-02   \n",
              "75%    6.095941e-01  6.643030e-01  5.927577e-01  7.415144e-01 -2.504701e-02   \n",
              "max    5.999600e+00  5.624679e+00  3.875486e+00  4.245018e+00  3.991241e+01   \n",
              "\n",
              "                  N             R             S      Type_EI      Type_IE  \\\n",
              "count  3.189000e+03  3.189000e+03  3.189000e+03  3189.000000  3189.000000   \n",
              "mean   9.459547e-16  2.586234e-16  2.586234e-16     0.240201     0.240828   \n",
              "std    1.000000e+00  1.000000e+00  1.000000e+00     0.427272     0.427653   \n",
              "min   -2.399793e-02 -1.770813e-02 -1.770813e-02     0.000000     0.000000   \n",
              "25%   -2.399793e-02 -1.770813e-02 -1.770813e-02     0.000000     0.000000   \n",
              "50%   -2.399793e-02 -1.770813e-02 -1.770813e-02     0.000000     0.000000   \n",
              "75%   -2.399793e-02 -1.770813e-02 -1.770813e-02     0.000000     0.000000   \n",
              "max    5.600646e+01  5.645352e+01  5.645352e+01     1.000000     1.000000   \n",
              "\n",
              "            Type_N  stop-code_None  stop-code_TAA  stop-code_TAG  \\\n",
              "count  3189.000000     3189.000000    3189.000000    3189.000000   \n",
              "mean      0.518971        0.653496       0.128881       0.077140   \n",
              "std       0.499718        0.475931       0.335120       0.266856   \n",
              "min       0.000000        0.000000       0.000000       0.000000   \n",
              "25%       0.000000        0.000000       0.000000       0.000000   \n",
              "50%       1.000000        1.000000       0.000000       0.000000   \n",
              "75%       1.000000        1.000000       0.000000       0.000000   \n",
              "max       1.000000        1.000000       1.000000       1.000000   \n",
              "\n",
              "       stop-code_TGA  \n",
              "count    3189.000000  \n",
              "mean        0.140483  \n",
              "std         0.347542  \n",
              "min         0.000000  \n",
              "25%         0.000000  \n",
              "50%         0.000000  \n",
              "75%         0.000000  \n",
              "max         1.000000  "
            ]
          },
          "execution_count": 24,
          "metadata": {},
          "output_type": "execute_result"
        }
      ],
      "source": [
        "data.describe()"
      ]
    },
    {
      "cell_type": "code",
      "execution_count": null,
      "metadata": {
        "colab": {
          "base_uri": "https://localhost:8080/"
        },
        "id": "DOSr5xbX9BnA",
        "outputId": "567e8b74-0c0e-4e33-fa3d-3da5f7750659"
      },
      "outputs": [
        {
          "name": "stdout",
          "output_type": "stream",
          "text": [
            "2391 798\n"
          ]
        }
      ],
      "source": [
        "# Créer target Y\n",
        "X = data\n",
        "Y = [0 for i in range(len(data))]\n",
        "for i in range(len(data)):\n",
        "    if data['Type_EI'][i]==1:\n",
        "        Y[i]=0\n",
        "    if data['Type_IE'][i]==1:\n",
        "        Y[i]=1\n",
        "    if data['Type_N'][i]==1:\n",
        "        Y[i]=2\n",
        "feature_names = X.columns\n",
        "from sklearn.model_selection import train_test_split\n",
        "X_train, X_test, y_train, y_test = train_test_split(X, Y,test_size = 0.25, random_state = 1)\n",
        "\n",
        "N_train, _ = X_train.shape \n",
        "N_test,  _ = X_test.shape \n",
        "\n",
        "print(N_train, N_test)"
      ]
    },
    {
      "cell_type": "code",
      "execution_count": null,
      "metadata": {
        "colab": {
          "base_uri": "https://localhost:8080/",
          "height": 505
        },
        "id": "nm4Wx_mS9BnA",
        "outputId": "e0b916b3-d8df-4631-b602-de9804c4d243"
      },
      "outputs": [
        {
          "data": {
            "text/html": [
              "<div>\n",
              "<style scoped>\n",
              "    .dataframe tbody tr th:only-of-type {\n",
              "        vertical-align: middle;\n",
              "    }\n",
              "\n",
              "    .dataframe tbody tr th {\n",
              "        vertical-align: top;\n",
              "    }\n",
              "\n",
              "    .dataframe thead th {\n",
              "        text-align: right;\n",
              "    }\n",
              "</style>\n",
              "<table border=\"1\" class=\"dataframe\">\n",
              "  <thead>\n",
              "    <tr style=\"text-align: right;\">\n",
              "      <th></th>\n",
              "      <th>A</th>\n",
              "      <th>T</th>\n",
              "      <th>G</th>\n",
              "      <th>C</th>\n",
              "      <th>D</th>\n",
              "      <th>N</th>\n",
              "      <th>R</th>\n",
              "      <th>S</th>\n",
              "      <th>Type_EI</th>\n",
              "      <th>Type_IE</th>\n",
              "      <th>Type_N</th>\n",
              "      <th>stop-code_None</th>\n",
              "      <th>stop-code_TAA</th>\n",
              "      <th>stop-code_TAG</th>\n",
              "      <th>stop-code_TGA</th>\n",
              "    </tr>\n",
              "  </thead>\n",
              "  <tbody>\n",
              "    <tr>\n",
              "      <th>403</th>\n",
              "      <td>1.607743</td>\n",
              "      <td>0.473519</td>\n",
              "      <td>0.045636</td>\n",
              "      <td>-1.886113</td>\n",
              "      <td>-0.025047</td>\n",
              "      <td>-0.023998</td>\n",
              "      <td>-0.017708</td>\n",
              "      <td>-0.017708</td>\n",
              "      <td>1</td>\n",
              "      <td>0</td>\n",
              "      <td>0</td>\n",
              "      <td>0</td>\n",
              "      <td>1</td>\n",
              "      <td>0</td>\n",
              "      <td>0</td>\n",
              "    </tr>\n",
              "    <tr>\n",
              "      <th>453</th>\n",
              "      <td>-1.586334</td>\n",
              "      <td>-0.861967</td>\n",
              "      <td>0.592758</td>\n",
              "      <td>1.617390</td>\n",
              "      <td>-0.025047</td>\n",
              "      <td>-0.023998</td>\n",
              "      <td>-0.017708</td>\n",
              "      <td>-0.017708</td>\n",
              "      <td>1</td>\n",
              "      <td>0</td>\n",
              "      <td>0</td>\n",
              "      <td>0</td>\n",
              "      <td>0</td>\n",
              "      <td>0</td>\n",
              "      <td>1</td>\n",
              "    </tr>\n",
              "    <tr>\n",
              "      <th>2534</th>\n",
              "      <td>-1.386704</td>\n",
              "      <td>0.855087</td>\n",
              "      <td>0.045636</td>\n",
              "      <td>0.391164</td>\n",
              "      <td>-0.025047</td>\n",
              "      <td>-0.023998</td>\n",
              "      <td>-0.017708</td>\n",
              "      <td>-0.017708</td>\n",
              "      <td>0</td>\n",
              "      <td>0</td>\n",
              "      <td>1</td>\n",
              "      <td>1</td>\n",
              "      <td>0</td>\n",
              "      <td>0</td>\n",
              "      <td>0</td>\n",
              "    </tr>\n",
              "    <tr>\n",
              "      <th>13</th>\n",
              "      <td>0.609594</td>\n",
              "      <td>-1.243534</td>\n",
              "      <td>2.051748</td>\n",
              "      <td>-1.360587</td>\n",
              "      <td>-0.025047</td>\n",
              "      <td>-0.023998</td>\n",
              "      <td>-0.017708</td>\n",
              "      <td>-0.017708</td>\n",
              "      <td>1</td>\n",
              "      <td>0</td>\n",
              "      <td>0</td>\n",
              "      <td>0</td>\n",
              "      <td>0</td>\n",
              "      <td>1</td>\n",
              "      <td>0</td>\n",
              "    </tr>\n",
              "    <tr>\n",
              "      <th>45</th>\n",
              "      <td>-0.588185</td>\n",
              "      <td>-0.861967</td>\n",
              "      <td>2.051748</td>\n",
              "      <td>-0.659887</td>\n",
              "      <td>-0.025047</td>\n",
              "      <td>-0.023998</td>\n",
              "      <td>-0.017708</td>\n",
              "      <td>-0.017708</td>\n",
              "      <td>1</td>\n",
              "      <td>0</td>\n",
              "      <td>0</td>\n",
              "      <td>0</td>\n",
              "      <td>1</td>\n",
              "      <td>0</td>\n",
              "      <td>0</td>\n",
              "    </tr>\n",
              "    <tr>\n",
              "      <th>...</th>\n",
              "      <td>...</td>\n",
              "      <td>...</td>\n",
              "      <td>...</td>\n",
              "      <td>...</td>\n",
              "      <td>...</td>\n",
              "      <td>...</td>\n",
              "      <td>...</td>\n",
              "      <td>...</td>\n",
              "      <td>...</td>\n",
              "      <td>...</td>\n",
              "      <td>...</td>\n",
              "      <td>...</td>\n",
              "      <td>...</td>\n",
              "      <td>...</td>\n",
              "      <td>...</td>\n",
              "    </tr>\n",
              "    <tr>\n",
              "      <th>287</th>\n",
              "      <td>1.208484</td>\n",
              "      <td>0.664303</td>\n",
              "      <td>-0.683859</td>\n",
              "      <td>-1.010237</td>\n",
              "      <td>-0.025047</td>\n",
              "      <td>-0.023998</td>\n",
              "      <td>-0.017708</td>\n",
              "      <td>-0.017708</td>\n",
              "      <td>1</td>\n",
              "      <td>0</td>\n",
              "      <td>0</td>\n",
              "      <td>0</td>\n",
              "      <td>1</td>\n",
              "      <td>0</td>\n",
              "      <td>0</td>\n",
              "    </tr>\n",
              "    <tr>\n",
              "      <th>880</th>\n",
              "      <td>0.210334</td>\n",
              "      <td>-0.480399</td>\n",
              "      <td>-0.501485</td>\n",
              "      <td>0.741514</td>\n",
              "      <td>-0.025047</td>\n",
              "      <td>-0.023998</td>\n",
              "      <td>-0.017708</td>\n",
              "      <td>-0.017708</td>\n",
              "      <td>0</td>\n",
              "      <td>1</td>\n",
              "      <td>0</td>\n",
              "      <td>0</td>\n",
              "      <td>0</td>\n",
              "      <td>0</td>\n",
              "      <td>1</td>\n",
              "    </tr>\n",
              "    <tr>\n",
              "      <th>501</th>\n",
              "      <td>-0.388555</td>\n",
              "      <td>-0.098832</td>\n",
              "      <td>0.410384</td>\n",
              "      <td>0.040814</td>\n",
              "      <td>-0.025047</td>\n",
              "      <td>-0.023998</td>\n",
              "      <td>-0.017708</td>\n",
              "      <td>-0.017708</td>\n",
              "      <td>1</td>\n",
              "      <td>0</td>\n",
              "      <td>0</td>\n",
              "      <td>0</td>\n",
              "      <td>0</td>\n",
              "      <td>0</td>\n",
              "      <td>1</td>\n",
              "    </tr>\n",
              "    <tr>\n",
              "      <th>119</th>\n",
              "      <td>-0.388555</td>\n",
              "      <td>-1.434318</td>\n",
              "      <td>1.687000</td>\n",
              "      <td>0.040814</td>\n",
              "      <td>-0.025047</td>\n",
              "      <td>-0.023998</td>\n",
              "      <td>-0.017708</td>\n",
              "      <td>-0.017708</td>\n",
              "      <td>1</td>\n",
              "      <td>0</td>\n",
              "      <td>0</td>\n",
              "      <td>0</td>\n",
              "      <td>0</td>\n",
              "      <td>0</td>\n",
              "      <td>1</td>\n",
              "    </tr>\n",
              "    <tr>\n",
              "      <th>364</th>\n",
              "      <td>-0.188925</td>\n",
              "      <td>-0.671183</td>\n",
              "      <td>0.410384</td>\n",
              "      <td>0.215989</td>\n",
              "      <td>-0.025047</td>\n",
              "      <td>1.342598</td>\n",
              "      <td>-0.017708</td>\n",
              "      <td>-0.017708</td>\n",
              "      <td>1</td>\n",
              "      <td>0</td>\n",
              "      <td>0</td>\n",
              "      <td>0</td>\n",
              "      <td>0</td>\n",
              "      <td>0</td>\n",
              "      <td>1</td>\n",
              "    </tr>\n",
              "  </tbody>\n",
              "</table>\n",
              "<p>798 rows × 15 columns</p>\n",
              "</div>"
            ],
            "text/plain": [
              "             A         T         G         C         D         N         R  \\\n",
              "403   1.607743  0.473519  0.045636 -1.886113 -0.025047 -0.023998 -0.017708   \n",
              "453  -1.586334 -0.861967  0.592758  1.617390 -0.025047 -0.023998 -0.017708   \n",
              "2534 -1.386704  0.855087  0.045636  0.391164 -0.025047 -0.023998 -0.017708   \n",
              "13    0.609594 -1.243534  2.051748 -1.360587 -0.025047 -0.023998 -0.017708   \n",
              "45   -0.588185 -0.861967  2.051748 -0.659887 -0.025047 -0.023998 -0.017708   \n",
              "...        ...       ...       ...       ...       ...       ...       ...   \n",
              "287   1.208484  0.664303 -0.683859 -1.010237 -0.025047 -0.023998 -0.017708   \n",
              "880   0.210334 -0.480399 -0.501485  0.741514 -0.025047 -0.023998 -0.017708   \n",
              "501  -0.388555 -0.098832  0.410384  0.040814 -0.025047 -0.023998 -0.017708   \n",
              "119  -0.388555 -1.434318  1.687000  0.040814 -0.025047 -0.023998 -0.017708   \n",
              "364  -0.188925 -0.671183  0.410384  0.215989 -0.025047  1.342598 -0.017708   \n",
              "\n",
              "             S  Type_EI  Type_IE  Type_N  stop-code_None  stop-code_TAA  \\\n",
              "403  -0.017708        1        0       0               0              1   \n",
              "453  -0.017708        1        0       0               0              0   \n",
              "2534 -0.017708        0        0       1               1              0   \n",
              "13   -0.017708        1        0       0               0              0   \n",
              "45   -0.017708        1        0       0               0              1   \n",
              "...        ...      ...      ...     ...             ...            ...   \n",
              "287  -0.017708        1        0       0               0              1   \n",
              "880  -0.017708        0        1       0               0              0   \n",
              "501  -0.017708        1        0       0               0              0   \n",
              "119  -0.017708        1        0       0               0              0   \n",
              "364  -0.017708        1        0       0               0              0   \n",
              "\n",
              "      stop-code_TAG  stop-code_TGA  \n",
              "403               0              0  \n",
              "453               0              1  \n",
              "2534              0              0  \n",
              "13                1              0  \n",
              "45                0              0  \n",
              "...             ...            ...  \n",
              "287               0              0  \n",
              "880               0              1  \n",
              "501               0              1  \n",
              "119               0              1  \n",
              "364               0              1  \n",
              "\n",
              "[798 rows x 15 columns]"
            ]
          },
          "execution_count": 26,
          "metadata": {},
          "output_type": "execute_result"
        }
      ],
      "source": [
        "X_test"
      ]
    },
    {
      "cell_type": "markdown",
      "metadata": {
        "id": "_3TAq1IUA3oO"
      },
      "source": [
        "### Modeling"
      ]
    },
    {
      "cell_type": "code",
      "execution_count": null,
      "metadata": {
        "id": "YLPk0H-Ji1-D"
      },
      "outputs": [],
      "source": [
        "# Appliquer KNN avec n_neighbors=3\n",
        "from sklearn import neighbors\n",
        "#from sklearn.cross_validation import train_test_split\n",
        "from sklearn.model_selection import train_test_split\n",
        "\n",
        "model = neighbors.KNeighborsClassifier(n_neighbors = 3)\n",
        "model.fit(X_train, y_train)\n",
        "y_test_pred = model.predict(X_test)"
      ]
    },
    {
      "cell_type": "code",
      "execution_count": null,
      "metadata": {
        "colab": {
          "base_uri": "https://localhost:8080/"
        },
        "id": "XZYuqu0ojXVa",
        "outputId": "5ae00985-0961-4809-8912-e66e063f24f9"
      },
      "outputs": [
        {
          "name": "stdout",
          "output_type": "stream",
          "text": [
            "0.0012531328320801727\n"
          ]
        }
      ],
      "source": [
        "from sklearn import metrics\n",
        "print (1 - metrics.accuracy_score(y_test, y_test_pred))\n",
        "#L'erreur de classification était d'environ 1% "
      ]
    },
    {
      "cell_type": "code",
      "execution_count": null,
      "metadata": {
        "colab": {
          "base_uri": "https://localhost:8080/",
          "height": 297
        },
        "id": "IQqWcdAtjaoD",
        "outputId": "4278de73-9d25-44d0-9fe0-6315583c1ddc"
      },
      "outputs": [
        {
          "data": {
            "text/plain": [
              "<matplotlib.colorbar.Colorbar at 0x7fdd13c2d8b0>"
            ]
          },
          "execution_count": 29,
          "metadata": {},
          "output_type": "execute_result"
        },
        {
          "data": {
            "image/png": "[encoded data removed]",
            "text/plain": [
              "<Figure size 432x288 with 2 Axes>"
            ]
          },
          "metadata": {
            "needs_background": "light"
          },
          "output_type": "display_data"
        }
      ],
      "source": [
        "M = metrics.confusion_matrix(y_test, y_test_pred)\n",
        "#M = M - np.diag(np.diag(M))\n",
        "M = np.sqrt(M)\n",
        "plt.imshow(M, interpolation = 'nearest')\n",
        "plt.set_cmap('binary')\n",
        "plt.grid(False)\n",
        "plt.xticks(range(3))\n",
        "plt.yticks(range(3))\n",
        "plt.xlabel(\"predicted label\")\n",
        "plt.ylabel(\"true label\")\n",
        "plt.colorbar()"
      ]
    },
    {
      "cell_type": "code",
      "execution_count": null,
      "metadata": {
        "id": "kVHmN1gAje7T"
      },
      "outputs": [],
      "source": [
        "# Voir comment l'erreur sur les échantillons de test et d'apprentissage changera \n",
        "#avec une augmentation du nombre de voisins pour le modèle\n",
        "kk = range(1, 30, 2)\n",
        "err_train = []\n",
        "err_test = []\n",
        "for k in kk:\n",
        "    model = neighbors.KNeighborsClassifier(n_neighbors = k)\n",
        "    model.fit(X_train, y_train)\n",
        "    err_train.append(np.mean(model.predict(X_train) != y_train))\n",
        "    err_test.append(np.mean(model.predict(X_test) != y_test))"
      ]
    },
    {
      "cell_type": "code",
      "execution_count": null,
      "metadata": {
        "colab": {
          "base_uri": "https://localhost:8080/",
          "height": 287
        },
        "id": "W4Lzw7RejmcC",
        "outputId": "ed76ae57-41b0-4ca0-d0b5-347a94787927"
      },
      "outputs": [
        {
          "data": {
            "text/plain": [
              "<matplotlib.legend.Legend at 0x7fdd172aba30>"
            ]
          },
          "execution_count": 31,
          "metadata": {},
          "output_type": "execute_result"
        },
        {
          "data": {
            "image/png": "[encoded data removed]",
            "text/plain": [
              "<Figure size 432x288 with 1 Axes>"
            ]
          },
          "metadata": {
            "needs_background": "light"
          },
          "output_type": "display_data"
        }
      ],
      "source": [
        "plt.plot(kk, err_train, '*-g', label = 'Train error')\n",
        "plt.plot(kk, err_test,  'o-y', label = 'Test error')    \n",
        "plt.legend(loc = 2)"
      ]
    },
    {
      "cell_type": "code",
      "execution_count": null,
      "metadata": {
        "colab": {
          "base_uri": "https://localhost:8080/"
        },
        "id": "-tb0AP0SjoAh",
        "outputId": "3c1c5c3f-94fe-4e3c-895d-0cc6696264bd"
      },
      "outputs": [
        {
          "data": {
            "text/plain": [
              "SVC(kernel='linear')"
            ]
          },
          "execution_count": 32,
          "metadata": {},
          "output_type": "execute_result"
        }
      ],
      "source": [
        "# Appliquer SVM\n",
        "from sklearn.svm import SVC # \"Support Vector Classifier\"\n",
        "svc_model = SVC(kernel = 'linear')\n",
        "svc_model.fit(X_test, y_test)"
      ]
    },
    {
      "cell_type": "code",
      "execution_count": null,
      "metadata": {
        "colab": {
          "base_uri": "https://localhost:8080/"
        },
        "id": "okdjewYkkUBj",
        "outputId": "a2719bdd-36de-4fa3-9860-305af0447e73"
      },
      "outputs": [
        {
          "data": {
            "text/plain": [
              "0.0"
            ]
          },
          "execution_count": 33,
          "metadata": {},
          "output_type": "execute_result"
        }
      ],
      "source": [
        "#Examiner l'erreur de classification lors de l'utilisation de ce modèle\n",
        "y_test_pred = svc_model.predict(X_test)\n",
        "np.mean(y_test != y_test_pred)\n",
        "\n",
        "# l'erreur est de 0%, donc la matrice de confusion dans ce cas n'est pas si intéressante"
      ]
    },
    {
      "cell_type": "code",
      "execution_count": null,
      "metadata": {
        "colab": {
          "base_uri": "https://localhost:8080/"
        },
        "id": "ytm_2Spzkfe3",
        "outputId": "41a99adb-185f-4241-aa2e-4677deabdd01"
      },
      "outputs": [
        {
          "data": {
            "text/plain": [
              "ExtraTreesClassifier(n_estimators=15)"
            ]
          },
          "execution_count": 34,
          "metadata": {},
          "output_type": "execute_result"
        }
      ],
      "source": [
        "# Appliquer ExtraTreesClassifier\n",
        "# Entraîner le modèle pour 15 arbres\n",
        "from sklearn.ensemble import ExtraTreesClassifier\n",
        "rf_model = ExtraTreesClassifier(n_estimators=15)\n",
        "rf_model.fit(X_train, y_train)"
      ]
    },
    {
      "cell_type": "code",
      "execution_count": null,
      "metadata": {
        "colab": {
          "base_uri": "https://localhost:8080/"
        },
        "id": "9bDQezBXlIym",
        "outputId": "530e5dde-569a-4c68-92ca-f82d81dc3a7f"
      },
      "outputs": [
        {
          "name": "stdout",
          "output_type": "stream",
          "text": [
            "0.0 0.0\n"
          ]
        }
      ],
      "source": [
        "err_train = np.mean(y_train != rf_model.predict(X_train))\n",
        "err_test = np.mean(y_test != rf_model.predict(X_test))\n",
        "print(err_train, err_test)"
      ]
    },
    {
      "cell_type": "code",
      "execution_count": null,
      "metadata": {
        "id": "rPNVip77lLkO"
      },
      "outputs": [],
      "source": [
        "kk = range(10, 30, 1)\n",
        "err_train = []\n",
        "err_test = []\n",
        "err_general = []\n",
        "\n",
        "for k in kk:\n",
        "    model =rf_model = ExtraTreesClassifier(n_estimators=k)\n",
        "    model.fit(X_train, y_train)\n",
        "    err_train.append(np.mean(model.predict(X_train) != y_train))\n",
        "    err_test.append(np.mean(model.predict(X_test) != y_test))\n",
        "    err_general.append(np.mean(model.predict(X) != Y))"
      ]
    },
    {
      "cell_type": "code",
      "execution_count": null,
      "metadata": {
        "colab": {
          "base_uri": "https://localhost:8080/",
          "height": 283
        },
        "id": "BnMPrH3Ulk1D",
        "outputId": "61d71795-2c18-4687-fd57-9464b49c2e6e"
      },
      "outputs": [
        {
          "data": {
            "text/plain": [
              "<matplotlib.legend.Legend at 0x7fdd1773b610>"
            ]
          },
          "execution_count": 37,
          "metadata": {},
          "output_type": "execute_result"
        },
        {
          "data": {
            "image/png": "[encoded data removed]",
            "text/plain": [
              "<Figure size 432x288 with 1 Axes>"
            ]
          },
          "metadata": {
            "needs_background": "light"
          },
          "output_type": "display_data"
        }
      ],
      "source": [
        "plt.plot(kk, err_train, '*-g', label = 'Train error')\n",
        "plt.plot(kk, err_test,  'o-y', label = 'Test error') \n",
        "plt.plot(kk, err_general, 'o-r', label = 'General error')\n",
        "plt.legend(loc = 3)"
      ]
    },
    {
      "cell_type": "code",
      "execution_count": null,
      "metadata": {
        "colab": {
          "base_uri": "https://localhost:8080/"
        },
        "id": "Fg-kADrBltqw",
        "outputId": "8cb0b33c-45ea-46e5-a507-1a13c42e127d"
      },
      "outputs": [
        {
          "name": "stdout",
          "output_type": "stream",
          "text": [
            "[[-9.50889630e-01  5.12898794e-01 -5.27473656e-02 ... -2.30721912e+00\n",
            "  -2.73250409e+00 -1.94133066e+00]\n",
            " [-2.57351515e-01 -1.29081830e+00 -9.47709461e-02 ... -2.43033181e+00\n",
            "  -1.66417830e+00 -8.42170667e-01]\n",
            " [ 7.08373501e-01 -8.88618064e-01  3.73813023e-03 ...  7.40917593e-02\n",
            "   9.06178850e-01  1.75849162e-01]\n",
            " ...\n",
            " [-9.36458283e-01  1.68522863e+00 -8.95313747e-02 ...  1.45713164e+00\n",
            "  -1.66417830e+00  4.34047573e+00]\n",
            " [-1.23021754e+00  6.63766594e-02  1.35918160e-03 ... -5.14805780e+00\n",
            "  -2.33706452e+00 -5.64322095e+00]\n",
            " [ 1.43198535e+00  1.02366868e-01 -6.71107838e-02 ...  6.21529692e+00\n",
            "   8.26451972e-01  1.02018157e+00]]\n"
          ]
        }
      ],
      "source": [
        "# Appliquer PCA\n",
        "from sklearn.decomposition import PCA\n",
        "pca = PCA(whiten=True).fit(X_train)\n",
        "X_train_pca = pca.transform(X_train)\n",
        "X_test_pca = pca.transform(X_test)\n",
        "print(X_train_pca)"
      ]
    },
    {
      "cell_type": "code",
      "execution_count": null,
      "metadata": {
        "colab": {
          "base_uri": "https://localhost:8080/"
        },
        "id": "8ytdhAeKlyBd",
        "outputId": "c5850646-7dd4-415f-bab5-5c61fd03fd29"
      },
      "outputs": [
        {
          "data": {
            "text/plain": [
              "15"
            ]
          },
          "execution_count": 39,
          "metadata": {},
          "output_type": "execute_result"
        }
      ],
      "source": [
        "len(X_train.columns)"
      ]
    },
    {
      "cell_type": "code",
      "execution_count": null,
      "metadata": {
        "colab": {
          "base_uri": "https://localhost:8080/"
        },
        "id": "svp_epx9l2bb",
        "outputId": "fdd08477-3f05-4c44-f489-3cd940229a83"
      },
      "outputs": [
        {
          "data": {
            "text/plain": [
              "0.0"
            ]
          },
          "execution_count": 40,
          "metadata": {},
          "output_type": "execute_result"
        }
      ],
      "source": [
        "from sklearn.svm import SVC # \"Support Vector Classifier\"\n",
        "svc_model = SVC(kernel = 'linear')\n",
        "svc_model.fit(X_test, y_test)\n",
        "y_test_pred = svc_model.predict(X_test)\n",
        "np.mean(y_test != y_test_pred)"
      ]
    }
  ],
  "metadata": {
    "colab": {
      "provenance": []
    },
    "kernelspec": {
      "display_name": "Python 3",
      "language": "python",
      "name": "python3"
    },
    "language_info": {
      "codemirror_mode": {
        "name": "ipython",
        "version": 3
      },
      "file_extension": ".py",
      "mimetype": "text/x-python",
      "name": "python",
      "nbconvert_exporter": "python",
      "pygments_lexer": "ipython3",
      "version": "3.8.8"
    }
  },
  "nbformat": 4,
  "nbformat_minor": 0
}
